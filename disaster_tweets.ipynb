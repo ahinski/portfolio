{
 "cells": [
  {
   "cell_type": "code",
   "execution_count": 1,
   "metadata": {
    "execution": {
     "iopub.execute_input": "2021-01-12T14:47:29.881462Z",
     "iopub.status.busy": "2021-01-12T14:47:29.880898Z",
     "iopub.status.idle": "2021-01-12T14:47:32.098397Z",
     "shell.execute_reply": "2021-01-12T14:47:32.097807Z"
    },
    "papermill": {
     "duration": 2.261123,
     "end_time": "2021-01-12T14:47:32.098507",
     "exception": false,
     "start_time": "2021-01-12T14:47:29.837384",
     "status": "completed"
    },
    "tags": []
   },
   "outputs": [],
   "source": [
    "import numpy as np\n",
    "import pandas as pd\n",
    "import matplotlib.pyplot as plt\n",
    "import re\n",
    "import spacy\n",
    "import nltk\n",
    "import pickle\n",
    "import string\n",
    "import seaborn as sns\n",
    "sns.set_theme(style=\"darkgrid\")\n",
    "\n",
    "from scipy import sparse\n",
    "\n",
    "from sklearn.naive_bayes import BernoulliNB\n",
    "from sklearn.naive_bayes import MultinomialNB\n",
    "from sklearn.linear_model import LogisticRegression\n",
    "from sklearn.svm import LinearSVC\n",
    "from sklearn.ensemble import RandomForestClassifier\n",
    "from sklearn.ensemble import VotingClassifier\n",
    "\n",
    "from sklearn.preprocessing import OneHotEncoder\n",
    "from sklearn.preprocessing import MinMaxScaler\n",
    "\n",
    "from sklearn.model_selection import GridSearchCV\n",
    "from sklearn.model_selection import cross_val_score\n",
    "\n",
    "from sklearn.metrics import f1_score\n",
    "\n",
    "from sklearn.feature_extraction.text import TfidfVectorizer\n",
    "from sklearn.feature_extraction.text import TfidfTransformer\n",
    "from sklearn.feature_extraction.text import CountVectorizer"
   ]
  },
  {
   "cell_type": "markdown",
   "metadata": {
    "papermill": {
     "duration": 0.039172,
     "end_time": "2021-01-12T14:47:32.179083",
     "exception": false,
     "start_time": "2021-01-12T14:47:32.139911",
     "status": "completed"
    },
    "tags": []
   },
   "source": [
    "## Uploading data"
   ]
  },
  {
   "cell_type": "code",
   "execution_count": 2,
   "metadata": {
    "execution": {
     "iopub.execute_input": "2021-01-12T14:47:32.273255Z",
     "iopub.status.busy": "2021-01-12T14:47:32.266992Z",
     "iopub.status.idle": "2021-01-12T14:47:32.368759Z",
     "shell.execute_reply": "2021-01-12T14:47:32.369235Z"
    },
    "papermill": {
     "duration": 0.150668,
     "end_time": "2021-01-12T14:47:32.369359",
     "exception": false,
     "start_time": "2021-01-12T14:47:32.218691",
     "status": "completed"
    },
    "tags": []
   },
   "outputs": [
    {
     "data": {
      "text/html": [
       "<div>\n",
       "<style scoped>\n",
       "    .dataframe tbody tr th:only-of-type {\n",
       "        vertical-align: middle;\n",
       "    }\n",
       "\n",
       "    .dataframe tbody tr th {\n",
       "        vertical-align: top;\n",
       "    }\n",
       "\n",
       "    .dataframe thead th {\n",
       "        text-align: right;\n",
       "    }\n",
       "</style>\n",
       "<table border=\"1\" class=\"dataframe\">\n",
       "  <thead>\n",
       "    <tr style=\"text-align: right;\">\n",
       "      <th></th>\n",
       "      <th>id</th>\n",
       "      <th>keyword</th>\n",
       "      <th>location</th>\n",
       "      <th>text</th>\n",
       "      <th>target</th>\n",
       "    </tr>\n",
       "  </thead>\n",
       "  <tbody>\n",
       "    <tr>\n",
       "      <th>0</th>\n",
       "      <td>1</td>\n",
       "      <td>NaN</td>\n",
       "      <td>NaN</td>\n",
       "      <td>Our Deeds are the Reason of this #earthquake M...</td>\n",
       "      <td>1</td>\n",
       "    </tr>\n",
       "    <tr>\n",
       "      <th>1</th>\n",
       "      <td>4</td>\n",
       "      <td>NaN</td>\n",
       "      <td>NaN</td>\n",
       "      <td>Forest fire near La Ronge Sask. Canada</td>\n",
       "      <td>1</td>\n",
       "    </tr>\n",
       "    <tr>\n",
       "      <th>2</th>\n",
       "      <td>5</td>\n",
       "      <td>NaN</td>\n",
       "      <td>NaN</td>\n",
       "      <td>All residents asked to 'shelter in place' are ...</td>\n",
       "      <td>1</td>\n",
       "    </tr>\n",
       "    <tr>\n",
       "      <th>3</th>\n",
       "      <td>6</td>\n",
       "      <td>NaN</td>\n",
       "      <td>NaN</td>\n",
       "      <td>13,000 people receive #wildfires evacuation or...</td>\n",
       "      <td>1</td>\n",
       "    </tr>\n",
       "    <tr>\n",
       "      <th>4</th>\n",
       "      <td>7</td>\n",
       "      <td>NaN</td>\n",
       "      <td>NaN</td>\n",
       "      <td>Just got sent this photo from Ruby #Alaska as ...</td>\n",
       "      <td>1</td>\n",
       "    </tr>\n",
       "  </tbody>\n",
       "</table>\n",
       "</div>"
      ],
      "text/plain": [
       "   id keyword location                                               text  \\\n",
       "0   1     NaN      NaN  Our Deeds are the Reason of this #earthquake M...   \n",
       "1   4     NaN      NaN             Forest fire near La Ronge Sask. Canada   \n",
       "2   5     NaN      NaN  All residents asked to 'shelter in place' are ...   \n",
       "3   6     NaN      NaN  13,000 people receive #wildfires evacuation or...   \n",
       "4   7     NaN      NaN  Just got sent this photo from Ruby #Alaska as ...   \n",
       "\n",
       "   target  \n",
       "0       1  \n",
       "1       1  \n",
       "2       1  \n",
       "3       1  \n",
       "4       1  "
      ]
     },
     "execution_count": 2,
     "metadata": {},
     "output_type": "execute_result"
    }
   ],
   "source": [
    "train = pd.read_csv(r'disaster_tweets/data/train.csv')\n",
    "test = pd.read_csv(r'disaster_tweets/data/test.csv')\n",
    "train.head()"
   ]
  },
  {
   "cell_type": "code",
   "execution_count": 3,
   "metadata": {
    "execution": {
     "iopub.execute_input": "2021-01-12T14:47:32.457541Z",
     "iopub.status.busy": "2021-01-12T14:47:32.456950Z",
     "iopub.status.idle": "2021-01-12T14:47:32.474974Z",
     "shell.execute_reply": "2021-01-12T14:47:32.474427Z"
    },
    "papermill": {
     "duration": 0.065485,
     "end_time": "2021-01-12T14:47:32.475082",
     "exception": false,
     "start_time": "2021-01-12T14:47:32.409597",
     "status": "completed"
    },
    "scrolled": false,
    "tags": []
   },
   "outputs": [
    {
     "data": {
      "text/html": [
       "<div>\n",
       "<style scoped>\n",
       "    .dataframe tbody tr th:only-of-type {\n",
       "        vertical-align: middle;\n",
       "    }\n",
       "\n",
       "    .dataframe tbody tr th {\n",
       "        vertical-align: top;\n",
       "    }\n",
       "\n",
       "    .dataframe thead th {\n",
       "        text-align: right;\n",
       "    }\n",
       "</style>\n",
       "<table border=\"1\" class=\"dataframe\">\n",
       "  <thead>\n",
       "    <tr style=\"text-align: right;\">\n",
       "      <th></th>\n",
       "      <th>id</th>\n",
       "      <th>target</th>\n",
       "    </tr>\n",
       "  </thead>\n",
       "  <tbody>\n",
       "    <tr>\n",
       "      <th>count</th>\n",
       "      <td>7613.000000</td>\n",
       "      <td>7613.00000</td>\n",
       "    </tr>\n",
       "    <tr>\n",
       "      <th>mean</th>\n",
       "      <td>5441.934848</td>\n",
       "      <td>0.42966</td>\n",
       "    </tr>\n",
       "    <tr>\n",
       "      <th>std</th>\n",
       "      <td>3137.116090</td>\n",
       "      <td>0.49506</td>\n",
       "    </tr>\n",
       "    <tr>\n",
       "      <th>min</th>\n",
       "      <td>1.000000</td>\n",
       "      <td>0.00000</td>\n",
       "    </tr>\n",
       "    <tr>\n",
       "      <th>25%</th>\n",
       "      <td>2734.000000</td>\n",
       "      <td>0.00000</td>\n",
       "    </tr>\n",
       "    <tr>\n",
       "      <th>50%</th>\n",
       "      <td>5408.000000</td>\n",
       "      <td>0.00000</td>\n",
       "    </tr>\n",
       "    <tr>\n",
       "      <th>75%</th>\n",
       "      <td>8146.000000</td>\n",
       "      <td>1.00000</td>\n",
       "    </tr>\n",
       "    <tr>\n",
       "      <th>max</th>\n",
       "      <td>10873.000000</td>\n",
       "      <td>1.00000</td>\n",
       "    </tr>\n",
       "  </tbody>\n",
       "</table>\n",
       "</div>"
      ],
      "text/plain": [
       "                 id      target\n",
       "count   7613.000000  7613.00000\n",
       "mean    5441.934848     0.42966\n",
       "std     3137.116090     0.49506\n",
       "min        1.000000     0.00000\n",
       "25%     2734.000000     0.00000\n",
       "50%     5408.000000     0.00000\n",
       "75%     8146.000000     1.00000\n",
       "max    10873.000000     1.00000"
      ]
     },
     "execution_count": 3,
     "metadata": {},
     "output_type": "execute_result"
    }
   ],
   "source": [
    "train.describe()"
   ]
  },
  {
   "cell_type": "markdown",
   "metadata": {},
   "source": [
    "## Data Preparation"
   ]
  },
  {
   "cell_type": "code",
   "execution_count": 4,
   "metadata": {
    "execution": {
     "iopub.execute_input": "2021-01-12T14:47:32.562539Z",
     "iopub.status.busy": "2021-01-12T14:47:32.560629Z",
     "iopub.status.idle": "2021-01-12T14:47:32.747121Z",
     "shell.execute_reply": "2021-01-12T14:47:32.746479Z"
    },
    "papermill": {
     "duration": 0.231847,
     "end_time": "2021-01-12T14:47:32.747234",
     "exception": false,
     "start_time": "2021-01-12T14:47:32.515387",
     "status": "completed"
    },
    "scrolled": true,
    "tags": []
   },
   "outputs": [
    {
     "data": {
      "text/plain": [
       "<BarContainer object of 2 artists>"
      ]
     },
     "execution_count": 4,
     "metadata": {},
     "output_type": "execute_result"
    },
    {
     "data": {
      "image/png": "[encoded data removed]",
      "text/plain": [
       "<Figure size 432x288 with 1 Axes>"
      ]
     },
     "metadata": {},
     "output_type": "display_data"
    }
   ],
   "source": [
    "plt.bar(train['target'].value_counts().index, train['target'].value_counts().values)"
   ]
  },
  {
   "cell_type": "markdown",
   "metadata": {},
   "source": [
    "The ratio of classes."
   ]
  },
  {
   "cell_type": "code",
   "execution_count": 5,
   "metadata": {
    "execution": {
     "iopub.execute_input": "2021-01-12T14:47:45.640327Z",
     "iopub.status.busy": "2021-01-12T14:47:45.638511Z",
     "iopub.status.idle": "2021-01-12T14:47:45.643175Z",
     "shell.execute_reply": "2021-01-12T14:47:45.643664Z"
    },
    "papermill": {
     "duration": 0.064127,
     "end_time": "2021-01-12T14:47:45.643816",
     "exception": false,
     "start_time": "2021-01-12T14:47:45.579689",
     "status": "completed"
    },
    "tags": []
   },
   "outputs": [
    {
     "data": {
      "text/plain": [
       "0.7533394748963611"
      ]
     },
     "execution_count": 5,
     "metadata": {},
     "output_type": "execute_result"
    }
   ],
   "source": [
    "train['target'].value_counts()[1] / train['target'].value_counts()[0]"
   ]
  },
  {
   "cell_type": "markdown",
   "metadata": {
    "papermill": {
     "duration": 0.042895,
     "end_time": "2021-01-12T14:47:32.834264",
     "exception": false,
     "start_time": "2021-01-12T14:47:32.791369",
     "status": "completed"
    },
    "tags": []
   },
   "source": [
    "### Analyzing 'keyword' and 'location' columns for missing values and outliers."
   ]
  },
  {
   "cell_type": "code",
   "execution_count": 6,
   "metadata": {
    "execution": {
     "iopub.execute_input": "2021-01-12T14:47:32.930811Z",
     "iopub.status.busy": "2021-01-12T14:47:32.930152Z",
     "iopub.status.idle": "2021-01-12T14:47:32.935965Z",
     "shell.execute_reply": "2021-01-12T14:47:32.936527Z"
    },
    "papermill": {
     "duration": 0.059107,
     "end_time": "2021-01-12T14:47:32.936680",
     "exception": false,
     "start_time": "2021-01-12T14:47:32.877573",
     "status": "completed"
    },
    "tags": []
   },
   "outputs": [
    {
     "data": {
      "text/plain": [
       "NaN                         2533\n",
       "USA                          104\n",
       "New York                      71\n",
       "United States                 50\n",
       "London                        45\n",
       "                            ... \n",
       "teh internets                  1\n",
       "Zimbabwe                       1\n",
       "Galveston, Texas               1\n",
       "wny                            1\n",
       "Palm Bay, FL (Kissimmee)       1\n",
       "Name: location, Length: 3342, dtype: int64"
      ]
     },
     "execution_count": 6,
     "metadata": {},
     "output_type": "execute_result"
    }
   ],
   "source": [
    " train['location'].value_counts(dropna=False)"
   ]
  },
  {
   "cell_type": "code",
   "execution_count": 7,
   "metadata": {},
   "outputs": [
    {
     "data": {
      "text/plain": [
       "NaN                      61\n",
       "fatalities               45\n",
       "armageddon               42\n",
       "deluge                   42\n",
       "harm                     41\n",
       "                         ..\n",
       "forest%20fire            19\n",
       "epicentre                12\n",
       "threat                   11\n",
       "inundation               10\n",
       "radiation%20emergency     9\n",
       "Name: keyword, Length: 222, dtype: int64"
      ]
     },
     "execution_count": 7,
     "metadata": {},
     "output_type": "execute_result"
    }
   ],
   "source": [
    " train['keyword'].value_counts(dropna=False)"
   ]
  },
  {
   "cell_type": "markdown",
   "metadata": {
    "papermill": {
     "duration": 0.045707,
     "end_time": "2021-01-12T14:47:33.027353",
     "exception": false,
     "start_time": "2021-01-12T14:47:32.981646",
     "status": "completed"
    },
    "tags": []
   },
   "source": [
    "**There are a lot of NaNs**"
   ]
  },
  {
   "cell_type": "code",
   "execution_count": 8,
   "metadata": {
    "execution": {
     "iopub.execute_input": "2021-01-12T14:47:33.118298Z",
     "iopub.status.busy": "2021-01-12T14:47:33.117726Z",
     "iopub.status.idle": "2021-01-12T14:47:33.129871Z",
     "shell.execute_reply": "2021-01-12T14:47:33.130279Z"
    },
    "papermill": {
     "duration": 0.058553,
     "end_time": "2021-01-12T14:47:33.130405",
     "exception": false,
     "start_time": "2021-01-12T14:47:33.071852",
     "status": "completed"
    },
    "tags": []
   },
   "outputs": [],
   "source": [
    "train_for_plot = train.fillna('NOINFO')"
   ]
  },
  {
   "cell_type": "code",
   "execution_count": 9,
   "metadata": {},
   "outputs": [],
   "source": [
    "locations = train_for_plot['location'].value_counts(dropna=False)\n",
    "freq_locations = list(locations.index)"
   ]
  },
  {
   "cell_type": "code",
   "execution_count": 10,
   "metadata": {
    "execution": {
     "iopub.execute_input": "2021-01-12T14:47:33.215655Z",
     "iopub.status.busy": "2021-01-12T14:47:33.215082Z",
     "iopub.status.idle": "2021-01-12T14:47:35.009411Z",
     "shell.execute_reply": "2021-01-12T14:47:35.008875Z"
    },
    "papermill": {
     "duration": 1.838375,
     "end_time": "2021-01-12T14:47:35.009507",
     "exception": false,
     "start_time": "2021-01-12T14:47:33.171132",
     "status": "completed"
    },
    "tags": []
   },
   "outputs": [
    {
     "data": {
      "image/png": "[encoded data removed]",
      "text/plain": [
       "<Figure size 1080x1080 with 15 Axes>"
      ]
     },
     "metadata": {},
     "output_type": "display_data"
    }
   ],
   "source": [
    "fig, ax = plt.subplots(3, 5, figsize=(15, 15))\n",
    "for i in range(3):\n",
    "    for j in range(5):\n",
    "        temp_data = train_for_plot[(train_for_plot['location'] == freq_locations[i*5 + j])]\n",
    "        ax[i][j].set_title(freq_locations[i*5 + j])\n",
    "        ax[i][j].bar([1, 0], temp_data['target'].value_counts().values)"
   ]
  },
  {
   "cell_type": "code",
   "execution_count": 11,
   "metadata": {
    "execution": {
     "iopub.execute_input": "2021-01-12T14:47:35.124723Z",
     "iopub.status.busy": "2021-01-12T14:47:35.123900Z",
     "iopub.status.idle": "2021-01-12T14:47:35.127747Z",
     "shell.execute_reply": "2021-01-12T14:47:35.127269Z"
    },
    "papermill": {
     "duration": 0.053929,
     "end_time": "2021-01-12T14:47:35.127854",
     "exception": false,
     "start_time": "2021-01-12T14:47:35.073925",
     "status": "completed"
    },
    "scrolled": true,
    "tags": []
   },
   "outputs": [],
   "source": [
    "frames = [train, test]\n",
    "full_data = pd.concat(frames)"
   ]
  },
  {
   "cell_type": "code",
   "execution_count": 12,
   "metadata": {
    "execution": {
     "iopub.execute_input": "2021-01-12T14:47:35.224641Z",
     "iopub.status.busy": "2021-01-12T14:47:35.223821Z",
     "iopub.status.idle": "2021-01-12T14:47:35.227244Z",
     "shell.execute_reply": "2021-01-12T14:47:35.226751Z"
    },
    "papermill": {
     "duration": 0.055569,
     "end_time": "2021-01-12T14:47:35.227343",
     "exception": false,
     "start_time": "2021-01-12T14:47:35.171774",
     "status": "completed"
    },
    "tags": []
   },
   "outputs": [],
   "source": [
    "locs = full_data['location'].value_counts(dropna=True)"
   ]
  },
  {
   "cell_type": "code",
   "execution_count": 13,
   "metadata": {
    "execution": {
     "iopub.execute_input": "2021-01-12T14:47:35.320290Z",
     "iopub.status.busy": "2021-01-12T14:47:35.319735Z",
     "iopub.status.idle": "2021-01-12T14:47:35.338309Z",
     "shell.execute_reply": "2021-01-12T14:47:35.338832Z"
    },
    "papermill": {
     "duration": 0.067073,
     "end_time": "2021-01-12T14:47:35.338984",
     "exception": false,
     "start_time": "2021-01-12T14:47:35.271911",
     "status": "completed"
    },
    "scrolled": true,
    "tags": []
   },
   "outputs": [
    {
     "name": "stdout",
     "output_type": "stream",
     "text": [
      "Index(['USA', 'New York', 'United States', 'London', 'Canada', 'Nigeria',\n",
      "       'India', 'Worldwide', 'Los Angeles, CA', 'UK', 'Kenya',\n",
      "       'Washington, DC', 'Mumbai', 'United Kingdom', 'Australia', 'California',\n",
      "       'Los Angeles', 'Chicago, IL', 'San Francisco', 'New York, NY',\n",
      "       'Florida', 'NYC', 'California, USA', 'San Francisco, CA', 'Chicago',\n",
      "       'Toronto', 'Washington, D.C.', 'Ireland', 'Indonesia', 'Everywhere',\n",
      "       'ss', 'Seattle', 'Philippines', 'Seattle, WA', 'Atlanta, GA',\n",
      "       'New York City', 'Singapore', 'London, UK', 'Earth', 'Texas',\n",
      "       'Manchester', 'World', 'Nashville, TN', 'Denver, CO', 'London, England',\n",
      "       'Denver, Colorado', 'Dallas, TX', 'Memphis, TN',\n",
      "       'Paterson, New Jersey ', 'Calgary, Alberta', 'Melbourne, Australia',\n",
      "       'San Diego, CA', '304', 'Colorado', 'US', 'Houston, TX',\n",
      "       'Sacramento, CA', 'Pennsylvania, USA', ' Road to the Billionaires Club',\n",
      "       'worldwide', 'Scotland', 'Lagos', 'Planet Earth', 'Sydney', 'Indiana',\n",
      "       '??????', 'Austin, TX', 'Maryland', 'Global', 'Brooklyn, NY',\n",
      "       'Portland, OR'],\n",
      "      dtype='object')\n"
     ]
    }
   ],
   "source": [
    "locations_nan = locs[locs > 8]\n",
    "print(locations_nan.index)"
   ]
  },
  {
   "cell_type": "markdown",
   "metadata": {
    "papermill": {
     "duration": 0.045041,
     "end_time": "2021-01-12T14:47:35.429554",
     "exception": false,
     "start_time": "2021-01-12T14:47:35.384513",
     "status": "completed"
    },
    "tags": []
   },
   "source": [
    "Replacing incorrect location names in test and train datasets"
   ]
  },
  {
   "cell_type": "code",
   "execution_count": 14,
   "metadata": {
    "execution": {
     "iopub.execute_input": "2021-01-12T14:47:35.521987Z",
     "iopub.status.busy": "2021-01-12T14:47:35.521390Z",
     "iopub.status.idle": "2021-01-12T14:47:39.338612Z",
     "shell.execute_reply": "2021-01-12T14:47:39.338077Z"
    },
    "papermill": {
     "duration": 3.863625,
     "end_time": "2021-01-12T14:47:39.338731",
     "exception": false,
     "start_time": "2021-01-12T14:47:35.475106",
     "status": "completed"
    },
    "tags": []
   },
   "outputs": [
    {
     "name": "stdout",
     "output_type": "stream",
     "text": [
      "noinfo             9632\n",
      "USA                 216\n",
      "New York            165\n",
      "Anywhere            138\n",
      "UK                   59\n",
      "London               58\n",
      "Los Angeles          58\n",
      "Washington, DC       47\n",
      "California           46\n",
      "San Francisco        43\n",
      "Canada               42\n",
      "Nigeria              40\n",
      "Chicago              40\n",
      "India                35\n",
      "Kenya                32\n",
      "Mumbai               22\n",
      "Australia            18\n",
      "Denver               16\n",
      "Florida              14\n",
      "Indonesia            13\n",
      "Ireland              12\n",
      "Toronto              12\n",
      "Pennsylvania         12\n",
      "Seattle              11\n",
      "Texas                10\n",
      "London, UK           10\n",
      "London, England      10\n",
      "Atlanta, GA          10\n",
      "Sacramento, CA       10\n",
      "Manchester            9\n",
      "San Diego, CA         9\n",
      "Dallas, TX            9\n",
      "Nashville, TN         9\n",
      "Philippines           9\n",
      "Name: location, dtype: int64\n"
     ]
    }
   ],
   "source": [
    "def change_location(dataset, name='dataset'):\n",
    "    dataset['location'] = dataset['location'].replace('United States', 'USA')\n",
    "    dataset['location'] = dataset['location'].replace('US', 'USA')\n",
    "    dataset['location'] = dataset['location'].replace('Worldwide', 'Anywhere')\n",
    "    dataset['location'] = dataset['location'].replace('worldwide', 'Anywhere')\n",
    "    dataset['location'] = dataset['location'].replace('Everywhere', 'Anywhere')\n",
    "    dataset['location'] = dataset['location'].replace('California, USA', 'California')\n",
    "    dataset['location'] = dataset['location'].replace('United Kingdom', 'UK')\n",
    "    dataset['location'] = dataset['location'].replace('San Francisco, CA', 'San Francisco')\n",
    "    dataset['location'] = dataset['location'].replace('Chicago, IL', 'Chicago')\n",
    "    dataset['location'] = dataset['location'].replace('New York, NY', 'New York')\n",
    "    dataset['location'] = dataset['location'].replace('Los Angeles, CA', 'Los Angeles')\n",
    "    dataset['location'] = dataset['location'].replace('NYC', 'New York')\n",
    "    dataset['location'] = dataset['location'].replace('New York City', 'New York')\n",
    "    dataset['location'] = dataset['location'].replace('Earth', 'Anywhere')\n",
    "    dataset['location'] = dataset['location'].replace('ss', 'Anywhere')\n",
    "    dataset['location'] = dataset['location'].replace('304', 'Anywhere')\n",
    "    dataset['location'] = dataset['location'].replace('World', 'Anywhere')\n",
    "    dataset['location'] = dataset['location'].replace('??????', 'Anywhere')\n",
    "    dataset['location'] = dataset['location'].replace('Planet Earth', 'Anywhere')\n",
    "    dataset['location'] = dataset['location'].replace('Washington, D.C.', 'Washington, DC')\n",
    "    dataset['location'] = dataset['location'].replace('Denver, Colorado', 'Denver')\n",
    "    dataset['location'] = dataset['location'].replace('Denver, CO', 'Denver')\n",
    "    dataset['location'] = dataset['location'].replace(' Road to the Billionaires Club', 'Anywhere')\n",
    "    dataset['location'] = dataset['location'].replace('Pennsylvania, USA', 'Pennsylvania')\n",
    "    dataset['location'] = dataset['location'].replace('Paterson, New Jersey', 'Paterson')\n",
    "    locations = dataset['location'].value_counts(dropna=True)\n",
    "    anywhere_locations = locations[locations <= 8]\n",
    "    for loc in list(anywhere_locations.index):\n",
    "        dataset['location'] = dataset['location'].replace(loc, 'noinfo')\n",
    "    dataset['location'].fillna('noinfo', inplace=True)\n",
    "    \n",
    "    \n",
    "change_location(train, 'train')\n",
    "change_location(test, 'test')\n",
    "frames = [train, test]\n",
    "full_data = pd.concat(frames)\n",
    "print(full_data['location'].value_counts())"
   ]
  },
  {
   "cell_type": "code",
   "execution_count": 15,
   "metadata": {
    "execution": {
     "iopub.execute_input": "2021-01-12T14:47:39.442766Z",
     "iopub.status.busy": "2021-01-12T14:47:39.442125Z",
     "iopub.status.idle": "2021-01-12T14:47:39.446150Z",
     "shell.execute_reply": "2021-01-12T14:47:39.445711Z"
    },
    "papermill": {
     "duration": 0.060694,
     "end_time": "2021-01-12T14:47:39.446251",
     "exception": false,
     "start_time": "2021-01-12T14:47:39.385557",
     "status": "completed"
    },
    "scrolled": true,
    "tags": []
   },
   "outputs": [
    {
     "data": {
      "text/plain": [
       "NOINFO                   61\n",
       "fatalities               45\n",
       "armageddon               42\n",
       "deluge                   42\n",
       "body%20bags              41\n",
       "                         ..\n",
       "forest%20fire            19\n",
       "epicentre                12\n",
       "threat                   11\n",
       "inundation               10\n",
       "radiation%20emergency     9\n",
       "Name: keyword, Length: 222, dtype: int64"
      ]
     },
     "execution_count": 15,
     "metadata": {},
     "output_type": "execute_result"
    }
   ],
   "source": [
    "keywords = train_for_plot['keyword'].value_counts(dropna=False)\n",
    "keywords"
   ]
  },
  {
   "cell_type": "markdown",
   "metadata": {},
   "source": [
    "Top 150 keyword for target values"
   ]
  },
  {
   "cell_type": "code",
   "execution_count": 16,
   "metadata": {
    "execution": {
     "iopub.execute_input": "2021-01-12T14:47:39.555958Z",
     "iopub.status.busy": "2021-01-12T14:47:39.551482Z",
     "iopub.status.idle": "2021-01-12T14:47:40.480647Z",
     "shell.execute_reply": "2021-01-12T14:47:40.480049Z"
    },
    "papermill": {
     "duration": 0.986937,
     "end_time": "2021-01-12T14:47:40.480752",
     "exception": false,
     "start_time": "2021-01-12T14:47:39.493815",
     "status": "completed"
    },
    "scrolled": false,
    "tags": []
   },
   "outputs": [
    {
     "data": {
      "text/plain": [
       "<matplotlib.legend.Legend at 0x20804b4f5e0>"
      ]
     },
     "execution_count": 16,
     "metadata": {},
     "output_type": "execute_result"
    },
    {
     "data": {
      "image/png": "[encoded data removed]",
      "text/plain": [
       "<Figure size 720x432 with 1 Axes>"
      ]
     },
     "metadata": {},
     "output_type": "display_data"
    }
   ],
   "source": [
    "top = 150\n",
    "\n",
    "\n",
    "fig= plt.figure(figsize=(10,6))\n",
    "axes= fig.add_axes([0.1,0.1,0.8,0.8])\n",
    "plt.xticks(rotation=90)\n",
    "axes.get_xaxis().set_visible(False)\n",
    "plt.bar(train_for_plot[train_for_plot['target'] == 1]['keyword'].value_counts().index[:top],\n",
    "        train_for_plot[train_for_plot['target'] == 1]['keyword'].value_counts().values[:top],\n",
    "         width=1, alpha=0.5, color='red', label='target=1')\n",
    "plt.bar(train_for_plot[train_for_plot['target'] == 0]['keyword'].value_counts().index[:top],\n",
    "        train_for_plot[train_for_plot['target'] == 0]['keyword'].value_counts().values[:top],\n",
    "        width=1, alpha=0.5, color='blue', label='target=0')\n",
    "plt.legend()"
   ]
  },
  {
   "cell_type": "markdown",
   "metadata": {
    "papermill": {
     "duration": 0.04738,
     "end_time": "2021-01-12T14:47:40.575782",
     "exception": false,
     "start_time": "2021-01-12T14:47:40.528402",
     "status": "completed"
    },
    "tags": []
   },
   "source": [
    "Top 40 keywords for each target value:"
   ]
  },
  {
   "cell_type": "code",
   "execution_count": 17,
   "metadata": {
    "execution": {
     "iopub.execute_input": "2021-01-12T14:47:40.684524Z",
     "iopub.status.busy": "2021-01-12T14:47:40.683521Z",
     "iopub.status.idle": "2021-01-12T14:47:41.704713Z",
     "shell.execute_reply": "2021-01-12T14:47:41.704021Z"
    },
    "papermill": {
     "duration": 1.082695,
     "end_time": "2021-01-12T14:47:41.704828",
     "exception": false,
     "start_time": "2021-01-12T14:47:40.622133",
     "status": "completed"
    },
    "scrolled": false,
    "tags": []
   },
   "outputs": [
    {
     "data": {
      "text/plain": [
       "<matplotlib.legend.Legend at 0x20805f9d700>"
      ]
     },
     "execution_count": 17,
     "metadata": {},
     "output_type": "execute_result"
    },
    {
     "data": {
      "image/png": "[encoded data removed]",
      "text/plain": [
       "<Figure size 720x432 with 1 Axes>"
      ]
     },
     "metadata": {},
     "output_type": "display_data"
    }
   ],
   "source": [
    "top = 40\n",
    "fig= plt.figure(figsize=(10,6))\n",
    "axes= fig.add_axes([0.1,0.1,0.8,0.8])\n",
    "plt.xticks(rotation=90)\n",
    "#axes.get_xaxis().set_visible(False)\n",
    "plt.bar(train_for_plot[train_for_plot['target'] == 1]['keyword'].value_counts().index[:top],\n",
    "        train_for_plot[train_for_plot['target'] == 1]['keyword'].value_counts().values[:top],\n",
    "        width=0.5, alpha=0.5, color='red', label='target=1')\n",
    "plt.bar(train_for_plot[train_for_plot['target'] == 0]['keyword'].value_counts().index[:top],\n",
    "        train_for_plot[train_for_plot['target'] == 0]['keyword'].value_counts().values[:top],\n",
    "        width=0.5, alpha=0.5, color='blue', label='target=0')\n",
    "plt.legend()"
   ]
  },
  {
   "cell_type": "markdown",
   "metadata": {
    "papermill": {
     "duration": 0.048009,
     "end_time": "2021-01-12T14:47:41.800770",
     "exception": false,
     "start_time": "2021-01-12T14:47:41.752761",
     "status": "completed"
    },
    "tags": []
   },
   "source": [
    "150 most frequent keywords for each target value in different locations."
   ]
  },
  {
   "cell_type": "code",
   "execution_count": 18,
   "metadata": {
    "execution": {
     "iopub.execute_input": "2021-01-12T14:47:41.921285Z",
     "iopub.status.busy": "2021-01-12T14:47:41.915319Z",
     "iopub.status.idle": "2021-01-12T14:47:45.521114Z",
     "shell.execute_reply": "2021-01-12T14:47:45.520477Z"
    },
    "papermill": {
     "duration": 3.671051,
     "end_time": "2021-01-12T14:47:45.521220",
     "exception": false,
     "start_time": "2021-01-12T14:47:41.850169",
     "status": "completed"
    },
    "scrolled": false,
    "tags": []
   },
   "outputs": [
    {
     "data": {
      "text/plain": [
       "<matplotlib.legend.Legend at 0x20806629d00>"
      ]
     },
     "execution_count": 18,
     "metadata": {},
     "output_type": "execute_result"
    },
    {
     "data": {
      "image/png": "[encoded data removed]",
      "text/plain": [
       "<Figure size 1080x2160 with 20 Axes>"
      ]
     },
     "metadata": {},
     "output_type": "display_data"
    }
   ],
   "source": [
    "top_keywords = 150\n",
    "\n",
    "freq_locations = list(train_for_plot['location'].value_counts(dropna=False)[:20].index)\n",
    "fig, axes = plt.subplots(4, 5, figsize=(15, 30))\n",
    "plt.xticks(rotation=90)\n",
    "for ax, loc in zip(axes.reshape(-1), freq_locations):\n",
    "    ax.set_title(loc)\n",
    "    ax.get_xaxis().set_visible(False)\n",
    "    ax.bar(train_for_plot[(train_for_plot['target'] == 1) & (train_for_plot['location'] == loc)]\n",
    "           ['keyword'].value_counts().index[:top_keywords],\n",
    "        train_for_plot[(train_for_plot['target'] == 1) & (train_for_plot['location'] == loc)]\n",
    "           ['keyword'].value_counts().values[:top_keywords],\n",
    "        width=1, alpha=0.5, color='red', label='target=1')\n",
    "    ax.bar(train_for_plot[(train_for_plot['target'] == 0) & (train_for_plot['location'] == loc)]\n",
    "           ['keyword'].value_counts().index[:top_keywords],\n",
    "        train_for_plot[(train_for_plot['target'] == 0) & (train_for_plot['location'] == loc)]\n",
    "           ['keyword'].value_counts().values[:top_keywords],\n",
    "        width=1, alpha=0.5, color='blue', label='target=0')\n",
    "plt.legend()"
   ]
  },
  {
   "cell_type": "markdown",
   "metadata": {
    "papermill": {
     "duration": 0.051226,
     "end_time": "2021-01-12T14:47:45.746845",
     "exception": false,
     "start_time": "2021-01-12T14:47:45.695619",
     "status": "completed"
    },
    "tags": []
   },
   "source": [
    "## Simple linear models using two features"
   ]
  },
  {
   "cell_type": "code",
   "execution_count": 19,
   "metadata": {},
   "outputs": [],
   "source": [
    "np.random.seed(144)\n",
    "\n",
    "train.fillna('noinfo', inplace=True)\n",
    "test.fillna('noinfo', inplace=True)"
   ]
  },
  {
   "cell_type": "markdown",
   "metadata": {
    "papermill": {
     "duration": 0.050477,
     "end_time": "2021-01-12T14:47:45.848226",
     "exception": false,
     "start_time": "2021-01-12T14:47:45.797749",
     "status": "completed"
    },
    "tags": []
   },
   "source": [
    "### Logistic Regression"
   ]
  },
  {
   "cell_type": "code",
   "execution_count": 20,
   "metadata": {},
   "outputs": [],
   "source": [
    "shuffled_train = train.iloc[np.random.permutation(len(train))]"
   ]
  },
  {
   "cell_type": "code",
   "execution_count": 21,
   "metadata": {
    "execution": {
     "iopub.execute_input": "2021-01-12T14:47:45.953105Z",
     "iopub.status.busy": "2021-01-12T14:47:45.952517Z",
     "iopub.status.idle": "2021-01-12T14:47:48.417400Z",
     "shell.execute_reply": "2021-01-12T14:47:48.416592Z"
    },
    "papermill": {
     "duration": 2.518842,
     "end_time": "2021-01-12T14:47:48.417510",
     "exception": false,
     "start_time": "2021-01-12T14:47:45.898668",
     "status": "completed"
    },
    "scrolled": true,
    "tags": []
   },
   "outputs": [
    {
     "name": "stderr",
     "output_type": "stream",
     "text": [
      "C:\\ProgramData\\Anaconda3_1\\lib\\site-packages\\sklearn\\linear_model\\_logistic.py:1320: UserWarning: Setting penalty='none' will ignore the C and l1_ratio parameters\n",
      "  warnings.warn(\n"
     ]
    },
    {
     "name": "stdout",
     "output_type": "stream",
     "text": [
      "LogisticRegression(C=0.1, n_jobs=-1, penalty='none')\n",
      "Best CV score:\n",
      "0.6722162240118548\n"
     ]
    }
   ],
   "source": [
    "max_iter = 100\n",
    "cv = 5\n",
    "#regularization\n",
    "Cs=[0.1, 0.2, 0.4, 0.6, 1]\n",
    "\n",
    "Log = LogisticRegression(n_jobs = -1)\n",
    "\n",
    "parameters = {'C': Cs, 'penalty': ('l2', 'none')}\n",
    "clf = GridSearchCV(Log, parameters, scoring='f1', cv=cv)\n",
    "\n",
    "X = shuffled_train[['location', 'keyword']]\n",
    "Y = shuffled_train['target']\n",
    "enc = OneHotEncoder()\n",
    "X = enc.fit_transform(X)\n",
    "\n",
    "clf.fit(X,Y)\n",
    "\n",
    "print(clf.best_estimator_)\n",
    "print('Best CV score:')\n",
    "print(clf.best_score_)"
   ]
  },
  {
   "cell_type": "markdown",
   "metadata": {
    "papermill": {
     "duration": 0.052263,
     "end_time": "2021-01-12T14:47:48.522514",
     "exception": false,
     "start_time": "2021-01-12T14:47:48.470251",
     "status": "completed"
    },
    "tags": []
   },
   "source": [
    "### Bernoulli Naive Bayes"
   ]
  },
  {
   "cell_type": "code",
   "execution_count": 22,
   "metadata": {
    "execution": {
     "iopub.execute_input": "2021-01-12T14:47:48.636211Z",
     "iopub.status.busy": "2021-01-12T14:47:48.635237Z",
     "iopub.status.idle": "2021-01-12T14:47:48.678971Z",
     "shell.execute_reply": "2021-01-12T14:47:48.679619Z"
    },
    "papermill": {
     "duration": 0.105806,
     "end_time": "2021-01-12T14:47:48.679831",
     "exception": false,
     "start_time": "2021-01-12T14:47:48.574025",
     "status": "completed"
    },
    "scrolled": false,
    "tags": []
   },
   "outputs": [
    {
     "name": "stdout",
     "output_type": "stream",
     "text": [
      "BernoulliNB(alpha=1, fit_prior=False)\n",
      "Best CV score:\n",
      "0.6954745377661038\n"
     ]
    }
   ],
   "source": [
    "NB = BernoulliNB()\n",
    "\n",
    "parameters = {'fit_prior': [True, False], 'alpha': [0.25, 0.5, 1, 1.5]}\n",
    "clf = GridSearchCV(NB, parameters, scoring='f1', cv=cv)\n",
    "\n",
    "X = shuffled_train[['location', 'keyword']]\n",
    "Y = shuffled_train['target']\n",
    "enc = OneHotEncoder()\n",
    "X = enc.fit_transform(X)\n",
    "\n",
    "clf.fit(X,Y)\n",
    "\n",
    "print(clf.best_estimator_)\n",
    "print('Best CV score:')\n",
    "print(clf.best_score_)"
   ]
  },
  {
   "cell_type": "markdown",
   "metadata": {
    "papermill": {
     "duration": 0.054263,
     "end_time": "2021-01-12T14:47:48.786857",
     "exception": false,
     "start_time": "2021-01-12T14:47:48.732594",
     "status": "completed"
    },
    "tags": []
   },
   "source": [
    "The results are not hight enough, so we'll use these them as baseline."
   ]
  },
  {
   "cell_type": "markdown",
   "metadata": {
    "papermill": {
     "duration": 0.053346,
     "end_time": "2021-01-12T14:47:48.894319",
     "exception": false,
     "start_time": "2021-01-12T14:47:48.840973",
     "status": "completed"
    },
    "tags": []
   },
   "source": [
    "## Creating metafeatures from 'text' feature"
   ]
  },
  {
   "cell_type": "markdown",
   "metadata": {},
   "source": [
    "**Mentions (@) count**"
   ]
  },
  {
   "cell_type": "code",
   "execution_count": 23,
   "metadata": {},
   "outputs": [],
   "source": [
    "train['mentions_count'] = train['text'].apply(lambda x: x.count('@'))\n",
    "test['mentions_count'] = test['text'].apply(lambda x: x.count('@'))"
   ]
  },
  {
   "cell_type": "code",
   "execution_count": 24,
   "metadata": {
    "scrolled": true
   },
   "outputs": [
    {
     "data": {
      "text/plain": [
       "<matplotlib.axes._subplots.AxesSubplot at 0x20804f9faf0>"
      ]
     },
     "execution_count": 24,
     "metadata": {},
     "output_type": "execute_result"
    },
    {
     "data": {
      "image/png": "[encoded data removed]",
      "text/plain": [
       "<Figure size 432x288 with 1 Axes>"
      ]
     },
     "metadata": {},
     "output_type": "display_data"
    }
   ],
   "source": [
    "sns.countplot(x='mentions_count', hue='target', data = train)"
   ]
  },
  {
   "cell_type": "markdown",
   "metadata": {},
   "source": [
    "mentions_count_binary = 1 if mentions_count > 0, else 0"
   ]
  },
  {
   "cell_type": "code",
   "execution_count": 25,
   "metadata": {},
   "outputs": [],
   "source": [
    "train['mentions_count_bin'] = train['mentions_count'].apply(lambda x: 1 if x > 0 else 0)\n",
    "test['mentions_count_bin'] = test['mentions_count'].apply(lambda x: 1 if x > 0 else 0)"
   ]
  },
  {
   "cell_type": "code",
   "execution_count": 26,
   "metadata": {},
   "outputs": [
    {
     "data": {
      "text/plain": [
       "<matplotlib.axes._subplots.AxesSubplot at 0x20804638b20>"
      ]
     },
     "execution_count": 26,
     "metadata": {},
     "output_type": "execute_result"
    },
    {
     "data": {
      "image/png": "[encoded data removed]",
      "text/plain": [
       "<Figure size 432x288 with 1 Axes>"
      ]
     },
     "metadata": {},
     "output_type": "display_data"
    }
   ],
   "source": [
    "sns.countplot(x='mentions_count_bin', hue='target', data = train)"
   ]
  },
  {
   "cell_type": "markdown",
   "metadata": {},
   "source": [
    "**Links count**"
   ]
  },
  {
   "cell_type": "code",
   "execution_count": 27,
   "metadata": {},
   "outputs": [],
   "source": [
    "train['links_count'] = train['text'].apply(lambda x: x.count('https'))\n",
    "test['links_count'] = test['text'].apply(lambda x: x.count('https'))"
   ]
  },
  {
   "cell_type": "code",
   "execution_count": 28,
   "metadata": {},
   "outputs": [
    {
     "data": {
      "text/plain": [
       "<matplotlib.axes._subplots.AxesSubplot at 0x20807603c40>"
      ]
     },
     "execution_count": 28,
     "metadata": {},
     "output_type": "execute_result"
    },
    {
     "data": {
      "image/png": "[encoded data removed]",
      "text/plain": [
       "<Figure size 432x288 with 1 Axes>"
      ]
     },
     "metadata": {},
     "output_type": "display_data"
    }
   ],
   "source": [
    "sns.countplot(x='links_count', hue='target', data = train)"
   ]
  },
  {
   "cell_type": "code",
   "execution_count": 29,
   "metadata": {
    "scrolled": true
   },
   "outputs": [
    {
     "data": {
      "text/plain": [
       "<matplotlib.axes._subplots.AxesSubplot at 0x20804eb9520>"
      ]
     },
     "execution_count": 29,
     "metadata": {},
     "output_type": "execute_result"
    },
    {
     "data": {
      "image/png": "[encoded data removed]",
      "text/plain": [
       "<Figure size 432x288 with 1 Axes>"
      ]
     },
     "metadata": {},
     "output_type": "display_data"
    }
   ],
   "source": [
    "sns.countplot(x='links_count', hue='target', data = train[train['links_count'] > 0])"
   ]
  },
  {
   "cell_type": "markdown",
   "metadata": {},
   "source": [
    "links_count_binary = 1 if links_count > 0 else 0"
   ]
  },
  {
   "cell_type": "code",
   "execution_count": 30,
   "metadata": {},
   "outputs": [],
   "source": [
    "train['links_count_bin'] = train['links_count'].apply(lambda x: 1 if x > 0 else 0)\n",
    "test['links_count_bin'] = test['links_count'].apply(lambda x: 1 if x > 0 else 0)"
   ]
  },
  {
   "cell_type": "markdown",
   "metadata": {},
   "source": [
    "**Punctuation marks count**"
   ]
  },
  {
   "cell_type": "code",
   "execution_count": 31,
   "metadata": {},
   "outputs": [],
   "source": [
    "count = lambda l1,l2: sum([1 for x in l1 if x in l2])\n",
    "\n",
    "train['punctuation_count'] = train['text'].apply(lambda x: count(x , string.punctuation))\n",
    "test['punctuation_count'] = test['text'].apply(lambda x: count(x , string.punctuation))"
   ]
  },
  {
   "cell_type": "code",
   "execution_count": 32,
   "metadata": {},
   "outputs": [
    {
     "data": {
      "text/plain": [
       "<matplotlib.axes._subplots.AxesSubplot at 0x208076039a0>"
      ]
     },
     "execution_count": 32,
     "metadata": {},
     "output_type": "execute_result"
    },
    {
     "data": {
      "image/png": "[encoded data removed]",
      "text/plain": [
       "<Figure size 432x288 with 1 Axes>"
      ]
     },
     "metadata": {},
     "output_type": "display_data"
    }
   ],
   "source": [
    "sns.countplot(x='punctuation_count', hue='target', data = train)"
   ]
  },
  {
   "cell_type": "code",
   "execution_count": 33,
   "metadata": {},
   "outputs": [
    {
     "data": {
      "text/plain": [
       "<matplotlib.axes._subplots.AxesSubplot at 0x2080691e880>"
      ]
     },
     "execution_count": 33,
     "metadata": {},
     "output_type": "execute_result"
    },
    {
     "data": {
      "image/png": "[encoded data removed]",
      "text/plain": [
       "<Figure size 432x288 with 1 Axes>"
      ]
     },
     "metadata": {},
     "output_type": "display_data"
    }
   ],
   "source": [
    "sns.countplot(x='punctuation_count', data = test)"
   ]
  },
  {
   "cell_type": "code",
   "execution_count": 34,
   "metadata": {},
   "outputs": [
    {
     "data": {
      "text/plain": [
       "count    7613.000000\n",
       "mean        6.839485\n",
       "std         4.608758\n",
       "min         0.000000\n",
       "25%         3.000000\n",
       "50%         6.000000\n",
       "75%        10.000000\n",
       "max        61.000000\n",
       "Name: punctuation_count, dtype: float64"
      ]
     },
     "execution_count": 34,
     "metadata": {},
     "output_type": "execute_result"
    }
   ],
   "source": [
    "train['punctuation_count'].describe()"
   ]
  },
  {
   "cell_type": "code",
   "execution_count": 35,
   "metadata": {},
   "outputs": [
    {
     "data": {
      "text/plain": [
       "count    3263.000000\n",
       "mean        6.950659\n",
       "std         4.486544\n",
       "min         0.000000\n",
       "25%         4.000000\n",
       "50%         7.000000\n",
       "75%        10.000000\n",
       "max        55.000000\n",
       "Name: punctuation_count, dtype: float64"
      ]
     },
     "execution_count": 35,
     "metadata": {},
     "output_type": "execute_result"
    }
   ],
   "source": [
    "test['punctuation_count'].describe()"
   ]
  },
  {
   "cell_type": "code",
   "execution_count": 36,
   "metadata": {},
   "outputs": [],
   "source": [
    "train.loc[train['punctuation_count'] > 16, 'punctuation_count'] = 16\n",
    "test.loc[test['punctuation_count'] > 16, 'punctuation_count'] = 16"
   ]
  },
  {
   "cell_type": "code",
   "execution_count": 37,
   "metadata": {},
   "outputs": [
    {
     "data": {
      "text/plain": [
       "<matplotlib.axes._subplots.AxesSubplot at 0x208068e7e80>"
      ]
     },
     "execution_count": 37,
     "metadata": {},
     "output_type": "execute_result"
    },
    {
     "data": {
      "image/png": "[encoded data removed]",
      "text/plain": [
       "<Figure size 432x288 with 1 Axes>"
      ]
     },
     "metadata": {},
     "output_type": "display_data"
    }
   ],
   "source": [
    "sns.countplot(x='punctuation_count', hue='target', data = train)"
   ]
  },
  {
   "cell_type": "code",
   "execution_count": 38,
   "metadata": {},
   "outputs": [
    {
     "data": {
      "text/plain": [
       "<seaborn.axisgrid.FacetGrid at 0x20806802dc0>"
      ]
     },
     "execution_count": 38,
     "metadata": {},
     "output_type": "execute_result"
    },
    {
     "data": {
      "image/png": "[encoded data removed]",
      "text/plain": [
       "<Figure size 360x360 with 1 Axes>"
      ]
     },
     "metadata": {},
     "output_type": "display_data"
    }
   ],
   "source": [
    "sns.displot(train['punctuation_count'], kde=True)"
   ]
  },
  {
   "cell_type": "markdown",
   "metadata": {},
   "source": [
    "**Punctuation_count scaling**"
   ]
  },
  {
   "cell_type": "code",
   "execution_count": 39,
   "metadata": {},
   "outputs": [],
   "source": [
    "scaler = MinMaxScaler()"
   ]
  },
  {
   "cell_type": "code",
   "execution_count": 40,
   "metadata": {},
   "outputs": [],
   "source": [
    "train['punctuation_count'] = scaler.fit_transform(train[['punctuation_count']])\n",
    "test['punctuation_count'] = scaler.fit_transform(test[['punctuation_count']])"
   ]
  },
  {
   "cell_type": "markdown",
   "metadata": {
    "papermill": {
     "duration": 0.052969,
     "end_time": "2021-01-12T14:47:49.002213",
     "exception": false,
     "start_time": "2021-01-12T14:47:48.949244",
     "status": "completed"
    },
    "tags": []
   },
   "source": [
    "### Text cleaning and transforming"
   ]
  },
  {
   "cell_type": "markdown",
   "metadata": {
    "papermill": {
     "duration": 0.051405,
     "end_time": "2021-01-12T14:47:49.105766",
     "exception": false,
     "start_time": "2021-01-12T14:47:49.054361",
     "status": "completed"
    },
    "tags": []
   },
   "source": [
    "**Lowercase**"
   ]
  },
  {
   "cell_type": "code",
   "execution_count": 41,
   "metadata": {
    "execution": {
     "iopub.execute_input": "2021-01-12T14:47:49.227993Z",
     "iopub.status.busy": "2021-01-12T14:47:49.227090Z",
     "iopub.status.idle": "2021-01-12T14:47:49.230159Z",
     "shell.execute_reply": "2021-01-12T14:47:49.229639Z"
    },
    "papermill": {
     "duration": 0.072111,
     "end_time": "2021-01-12T14:47:49.230267",
     "exception": false,
     "start_time": "2021-01-12T14:47:49.158156",
     "status": "completed"
    },
    "tags": []
   },
   "outputs": [],
   "source": [
    "train['text'] = train['text'].str.lower()\n",
    "test['text'] = test['text'].str.lower()"
   ]
  },
  {
   "cell_type": "markdown",
   "metadata": {
    "papermill": {
     "duration": 0.060753,
     "end_time": "2021-01-12T14:47:55.969242",
     "exception": false,
     "start_time": "2021-01-12T14:47:55.908489",
     "status": "completed"
    },
    "tags": []
   },
   "source": [
    "**Removing links and mentions (@somebody)**"
   ]
  },
  {
   "cell_type": "code",
   "execution_count": 42,
   "metadata": {
    "execution": {
     "iopub.execute_input": "2021-01-12T14:47:56.112432Z",
     "iopub.status.busy": "2021-01-12T14:47:56.111579Z",
     "iopub.status.idle": "2021-01-12T14:47:56.116830Z",
     "shell.execute_reply": "2021-01-12T14:47:56.116336Z"
    },
    "papermill": {
     "duration": 0.067369,
     "end_time": "2021-01-12T14:47:56.116938",
     "exception": false,
     "start_time": "2021-01-12T14:47:56.049569",
     "status": "completed"
    },
    "tags": []
   },
   "outputs": [],
   "source": [
    "train['text'] = train['text'].apply(lambda x:\n",
    "                                    re.sub(r'https?://\\S+|www\\.\\S+','', x))\n",
    "test['text'] = test['text'].apply(lambda x:\n",
    "                                    re.sub(r'https?://\\S+|www\\.\\S+','', x))"
   ]
  },
  {
   "cell_type": "code",
   "execution_count": 43,
   "metadata": {
    "execution": {
     "iopub.execute_input": "2021-01-12T14:47:56.242566Z",
     "iopub.status.busy": "2021-01-12T14:47:56.241598Z",
     "iopub.status.idle": "2021-01-12T14:47:56.245109Z",
     "shell.execute_reply": "2021-01-12T14:47:56.244560Z"
    },
    "papermill": {
     "duration": 0.071875,
     "end_time": "2021-01-12T14:47:56.245235",
     "exception": false,
     "start_time": "2021-01-12T14:47:56.173360",
     "status": "completed"
    },
    "scrolled": false,
    "tags": []
   },
   "outputs": [],
   "source": [
    "train['text'] = train['text'].apply(lambda x:\n",
    "                                    re.sub(r'@[A-Za-z0-9]+','', x))\n",
    "test['text'] = test['text'].apply(lambda x:\n",
    "                                    re.sub(r'@[A-Za-z0-9]+','', x))\n",
    "train['text'] = train['text'].apply(lambda x:\n",
    "                                    re.sub(r'#','', x))\n",
    "test['text'] = test['text'].apply(lambda x:\n",
    "                                    re.sub(r'#','', x))"
   ]
  },
  {
   "cell_type": "markdown",
   "metadata": {
    "papermill": {
     "duration": 0.055195,
     "end_time": "2021-01-12T14:47:49.339137",
     "exception": false,
     "start_time": "2021-01-12T14:47:49.283942",
     "status": "completed"
    },
    "tags": []
   },
   "source": [
    "**Removing punctuation**"
   ]
  },
  {
   "cell_type": "code",
   "execution_count": 44,
   "metadata": {
    "execution": {
     "iopub.execute_input": "2021-01-12T14:47:49.458020Z",
     "iopub.status.busy": "2021-01-12T14:47:49.457021Z",
     "iopub.status.idle": "2021-01-12T14:47:49.460299Z",
     "shell.execute_reply": "2021-01-12T14:47:49.459726Z"
    },
    "papermill": {
     "duration": 0.066508,
     "end_time": "2021-01-12T14:47:49.460401",
     "exception": false,
     "start_time": "2021-01-12T14:47:49.393893",
     "status": "completed"
    },
    "tags": []
   },
   "outputs": [],
   "source": [
    "train['text'] = train['text'].apply(lambda x:\n",
    "                                   re.sub(r'[^\\w\\s]','', x))\n",
    "test['text'] = test['text'].apply(lambda x:\n",
    "                                   re.sub(r'[^\\w\\s]','', x))"
   ]
  },
  {
   "cell_type": "markdown",
   "metadata": {
    "papermill": {
     "duration": 0.052786,
     "end_time": "2021-01-12T14:47:49.567514",
     "exception": false,
     "start_time": "2021-01-12T14:47:49.514728",
     "status": "completed"
    },
    "tags": []
   },
   "source": [
    "**Lemmatizing text**"
   ]
  },
  {
   "cell_type": "code",
   "execution_count": 45,
   "metadata": {
    "execution": {
     "iopub.execute_input": "2021-01-12T14:47:49.682592Z",
     "iopub.status.busy": "2021-01-12T14:47:49.681816Z",
     "iopub.status.idle": "2021-01-12T14:47:52.855645Z",
     "shell.execute_reply": "2021-01-12T14:47:52.854755Z"
    },
    "papermill": {
     "duration": 3.235795,
     "end_time": "2021-01-12T14:47:52.855780",
     "exception": false,
     "start_time": "2021-01-12T14:47:49.619985",
     "status": "completed"
    },
    "tags": []
   },
   "outputs": [],
   "source": [
    "w_tokenizer = nltk.tokenize.WhitespaceTokenizer()\n",
    "lemmatizer = nltk.stem.WordNetLemmatizer()\n",
    "\n",
    "def lemmatize_text(text):\n",
    "    return ' '.join([lemmatizer.lemmatize(w) for w in w_tokenizer.tokenize(text)])\n",
    "\n",
    "train['text'] = train.text.apply(lambda x: lemmatize_text(x))\n",
    "test['text'] = test.text.apply(lambda x: lemmatize_text(x))"
   ]
  },
  {
   "cell_type": "markdown",
   "metadata": {
    "papermill": {
     "duration": 0.053287,
     "end_time": "2021-01-12T14:47:53.004160",
     "exception": false,
     "start_time": "2021-01-12T14:47:52.950873",
     "status": "completed"
    },
    "tags": []
   },
   "source": [
    "**Stopwords analyze**"
   ]
  },
  {
   "cell_type": "code",
   "execution_count": 46,
   "metadata": {
    "execution": {
     "iopub.execute_input": "2021-01-12T14:47:53.114499Z",
     "iopub.status.busy": "2021-01-12T14:47:53.113590Z",
     "iopub.status.idle": "2021-01-12T14:47:54.226806Z",
     "shell.execute_reply": "2021-01-12T14:47:54.226086Z"
    },
    "papermill": {
     "duration": 1.169463,
     "end_time": "2021-01-12T14:47:54.226916",
     "exception": false,
     "start_time": "2021-01-12T14:47:53.057453",
     "status": "completed"
    },
    "tags": []
   },
   "outputs": [],
   "source": [
    "from nltk.corpus import stopwords\n",
    "all_stopwords = set(stopwords.words('english'))"
   ]
  },
  {
   "cell_type": "code",
   "execution_count": 47,
   "metadata": {
    "execution": {
     "iopub.execute_input": "2021-01-12T14:47:54.338028Z",
     "iopub.status.busy": "2021-01-12T14:47:54.337258Z",
     "iopub.status.idle": "2021-01-12T14:47:54.340236Z",
     "shell.execute_reply": "2021-01-12T14:47:54.339718Z"
    },
    "papermill": {
     "duration": 0.061351,
     "end_time": "2021-01-12T14:47:54.340339",
     "exception": false,
     "start_time": "2021-01-12T14:47:54.278988",
     "status": "completed"
    },
    "tags": []
   },
   "outputs": [],
   "source": [
    "def stopword_count(data, column):\n",
    "    count_dict = dict.fromkeys(all_stopwords, 0)\n",
    "    def row_count(row):\n",
    "        for word in row.split():\n",
    "            if word in all_stopwords:\n",
    "                count_dict[str(word)] += 1\n",
    "    data[column].apply(lambda x: row_count(x))\n",
    "    return count_dict"
   ]
  },
  {
   "cell_type": "code",
   "execution_count": 48,
   "metadata": {
    "execution": {
     "iopub.execute_input": "2021-01-12T14:47:54.488061Z",
     "iopub.status.busy": "2021-01-12T14:47:54.472919Z",
     "iopub.status.idle": "2021-01-12T14:47:54.490988Z",
     "shell.execute_reply": "2021-01-12T14:47:54.490380Z"
    },
    "papermill": {
     "duration": 0.097875,
     "end_time": "2021-01-12T14:47:54.491094",
     "exception": false,
     "start_time": "2021-01-12T14:47:54.393219",
     "status": "completed"
    },
    "tags": []
   },
   "outputs": [],
   "source": [
    "stopwords = stopword_count(train, 'text')\n",
    "stopwords = pd.Series(stopwords, index=stopwords.keys())\n",
    "stopwords = stopwords[stopwords > 0]\n",
    "stopwords = stopwords.sort_values(ascending=False)"
   ]
  },
  {
   "cell_type": "markdown",
   "metadata": {
    "papermill": {
     "duration": 0.051865,
     "end_time": "2021-01-12T14:47:54.596320",
     "exception": false,
     "start_time": "2021-01-12T14:47:54.544455",
     "status": "completed"
    },
    "tags": []
   },
   "source": [
    "#### Most popular stopwords"
   ]
  },
  {
   "cell_type": "code",
   "execution_count": 49,
   "metadata": {
    "execution": {
     "iopub.execute_input": "2021-01-12T14:47:54.707378Z",
     "iopub.status.busy": "2021-01-12T14:47:54.706795Z",
     "iopub.status.idle": "2021-01-12T14:47:54.992798Z",
     "shell.execute_reply": "2021-01-12T14:47:54.992208Z"
    },
    "papermill": {
     "duration": 0.344613,
     "end_time": "2021-01-12T14:47:54.992903",
     "exception": false,
     "start_time": "2021-01-12T14:47:54.648290",
     "status": "completed"
    },
    "scrolled": false,
    "tags": []
   },
   "outputs": [
    {
     "data": {
      "text/plain": [
       "<BarContainer object of 40 artists>"
      ]
     },
     "execution_count": 49,
     "metadata": {},
     "output_type": "execute_result"
    },
    {
     "data": {
      "image/png": "[encoded data removed]",
      "text/plain": [
       "<Figure size 720x432 with 1 Axes>"
      ]
     },
     "metadata": {},
     "output_type": "display_data"
    }
   ],
   "source": [
    "top = 40\n",
    "fig= plt.figure(figsize=(10,6))\n",
    "axes= fig.add_axes([0.1,0.1,0.8,0.8])\n",
    "plt.xticks(rotation=45)\n",
    "#axes.get_xaxis().set_visible(False)\n",
    "plt.bar(stopwords[:top].index, stopwords[:top].values)"
   ]
  },
  {
   "cell_type": "code",
   "execution_count": 50,
   "metadata": {
    "execution": {
     "iopub.execute_input": "2021-01-12T14:47:55.112456Z",
     "iopub.status.busy": "2021-01-12T14:47:55.111820Z",
     "iopub.status.idle": "2021-01-12T14:47:55.846817Z",
     "shell.execute_reply": "2021-01-12T14:47:55.847494Z"
    },
    "papermill": {
     "duration": 0.800091,
     "end_time": "2021-01-12T14:47:55.847689",
     "exception": false,
     "start_time": "2021-01-12T14:47:55.047598",
     "status": "completed"
    },
    "scrolled": false,
    "tags": []
   },
   "outputs": [
    {
     "data": {
      "text/plain": [
       "<matplotlib.legend.Legend at 0x2080cc21490>"
      ]
     },
     "execution_count": 50,
     "metadata": {},
     "output_type": "execute_result"
    },
    {
     "data": {
      "image/png": "[encoded data removed]",
      "text/plain": [
       "<Figure size 720x432 with 1 Axes>"
      ]
     },
     "metadata": {},
     "output_type": "display_data"
    }
   ],
   "source": [
    "stopwords_1 = stopword_count(train[train['target'] == 1], 'text')\n",
    "stopwords_1 = pd.Series(stopwords_1, index=stopwords.keys())\n",
    "stopwords_1 = stopwords_1[stopwords_1 > 0]\n",
    "stopwords_1 = stopwords_1.sort_values(ascending=False)\n",
    "stopwords_0 = stopword_count(train[train['target'] == 0], 'text')\n",
    "stopwords_0 = pd.Series(stopwords_0, index=stopwords.keys())\n",
    "stopwords_0 = stopwords_0[stopwords_0 > 0]\n",
    "stopwords_0 = stopwords_0.sort_values(ascending=False)\n",
    "\n",
    "top = 50\n",
    "fig= plt.figure(figsize=(10,6))\n",
    "axes= fig.add_axes([0.1,0.1,0.8,0.8])\n",
    "plt.xticks(rotation=45)\n",
    "#axes.get_xaxis().set_visible(False)\n",
    "axes.bar(stopwords_1[:top].index, stopwords_1[:top].values, \n",
    "        width=0.5, alpha=0.5, color='red', label='target=1', align='edge')\n",
    "axes.bar(stopwords_0[:top].index, stopwords_0[:top].values, \n",
    "        width=0.5, alpha=0.5, color='blue', label='target=0', align='edge')\n",
    "plt.legend()"
   ]
  },
  {
   "cell_type": "markdown",
   "metadata": {
    "papermill": {
     "duration": 0.058844,
     "end_time": "2021-01-12T14:47:56.362265",
     "exception": false,
     "start_time": "2021-01-12T14:47:56.303421",
     "status": "completed"
    },
    "tags": []
   },
   "source": [
    "**Not removing stopwords**"
   ]
  },
  {
   "cell_type": "markdown",
   "metadata": {
    "papermill": {
     "duration": 0.059654,
     "end_time": "2021-01-12T14:47:57.220581",
     "exception": false,
     "start_time": "2021-01-12T14:47:57.160927",
     "status": "completed"
    },
    "tags": []
   },
   "source": [
    "## TF-IDF Vectorization"
   ]
  },
  {
   "cell_type": "code",
   "execution_count": 51,
   "metadata": {
    "execution": {
     "iopub.execute_input": "2021-01-12T14:47:57.345099Z",
     "iopub.status.busy": "2021-01-12T14:47:57.344370Z",
     "iopub.status.idle": "2021-01-12T14:47:57.583060Z",
     "shell.execute_reply": "2021-01-12T14:47:57.582424Z"
    },
    "papermill": {
     "duration": 0.305164,
     "end_time": "2021-01-12T14:47:57.583193",
     "exception": false,
     "start_time": "2021-01-12T14:47:57.278029",
     "status": "completed"
    },
    "tags": []
   },
   "outputs": [
    {
     "name": "stdout",
     "output_type": "stream",
     "text": [
      "4058\n",
      "256\n"
     ]
    }
   ],
   "source": [
    "vect = TfidfVectorizer(min_df=4, ngram_range=(1,1))\n",
    "enc = OneHotEncoder()\n",
    "\n",
    "full_data = pd.concat((train, test))\n",
    "\n",
    "enc.fit(full_data[['location', 'keyword']])\n",
    "vect.fit(full_data['text'])\n",
    "print(len(vect.get_feature_names()))\n",
    "print(len(enc.get_feature_names()))"
   ]
  },
  {
   "cell_type": "markdown",
   "metadata": {
    "papermill": {
     "duration": 0.057507,
     "end_time": "2021-01-12T14:47:57.698526",
     "exception": false,
     "start_time": "2021-01-12T14:47:57.641019",
     "status": "completed"
    },
    "tags": []
   },
   "source": [
    "## Methods using all features"
   ]
  },
  {
   "cell_type": "code",
   "execution_count": 52,
   "metadata": {},
   "outputs": [],
   "source": [
    "np.random.seed(144)\n",
    "shuffled_train = train.iloc[np.random.permutation(len(train))]\n",
    "\n",
    "X_meta = np.array(shuffled_train[['mentions_count_bin', 'links_count_bin', 'punctuation_count']])\n",
    "X_vect = vect.transform(shuffled_train['text']).todense()\n",
    "X_onehot = enc.transform(shuffled_train[['location', 'keyword']]).todense()\n",
    "X = np.concatenate((X_vect, X_onehot, X_meta), axis=1)\n",
    "Y = shuffled_train['target']"
   ]
  },
  {
   "cell_type": "markdown",
   "metadata": {
    "papermill": {
     "duration": 0.057829,
     "end_time": "2021-01-12T14:47:57.814003",
     "exception": false,
     "start_time": "2021-01-12T14:47:57.756174",
     "status": "completed"
    },
    "tags": []
   },
   "source": [
    "### Random forest"
   ]
  },
  {
   "cell_type": "code",
   "execution_count": 54,
   "metadata": {
    "execution": {
     "iopub.execute_input": "2021-01-12T14:47:57.940526Z",
     "iopub.status.busy": "2021-01-12T14:47:57.938802Z",
     "iopub.status.idle": "2021-01-12T14:50:49.817145Z",
     "shell.execute_reply": "2021-01-12T14:50:49.817930Z"
    },
    "papermill": {
     "duration": 171.946926,
     "end_time": "2021-01-12T14:50:49.818166",
     "exception": false,
     "start_time": "2021-01-12T14:47:57.871240",
     "status": "completed"
    },
    "scrolled": true,
    "tags": []
   },
   "outputs": [
    {
     "name": "stdout",
     "output_type": "stream",
     "text": [
      "Fitting 3 folds for each of 1 candidates, totalling 3 fits\n"
     ]
    },
    {
     "name": "stderr",
     "output_type": "stream",
     "text": [
      "[Parallel(n_jobs=1)]: Using backend SequentialBackend with 1 concurrent workers.\n",
      "[Parallel(n_jobs=1)]: Done   3 out of   3 | elapsed:  3.8min finished\n"
     ]
    },
    {
     "name": "stdout",
     "output_type": "stream",
     "text": [
      "RandomForestClassifier(max_features='sqrt', max_samples=0.6, n_estimators=800,\n",
      "                       n_jobs=-1)\n",
      "Best CV score\n",
      "0.7189670087365089\n"
     ]
    }
   ],
   "source": [
    "n_estimators = [800]\n",
    "max_features = ['sqrt']\n",
    "cv = 3\n",
    "\n",
    "RF = RandomForestClassifier(n_jobs = -1, max_samples=0.6)\n",
    "\n",
    "parameters = {'n_estimators':n_estimators, 'max_features':max_features}\n",
    "RF_clf = GridSearchCV(RF, parameters, scoring='f1', cv=cv, verbose=1)\n",
    "\n",
    "RF_clf.fit(X,Y)\n",
    "\n",
    "print(RF_clf.best_estimator_)\n",
    "print('Best CV score')\n",
    "print(RF_clf.best_score_)"
   ]
  },
  {
   "cell_type": "markdown",
   "metadata": {
    "papermill": {
     "duration": 0.05661,
     "end_time": "2021-01-12T14:50:49.932006",
     "exception": false,
     "start_time": "2021-01-12T14:50:49.875396",
     "status": "completed"
    },
    "tags": []
   },
   "source": [
    "### Naive Bayes"
   ]
  },
  {
   "cell_type": "markdown",
   "metadata": {},
   "source": [
    "**Multinomial**"
   ]
  },
  {
   "cell_type": "code",
   "execution_count": 53,
   "metadata": {
    "execution": {
     "iopub.execute_input": "2021-01-12T14:50:50.067360Z",
     "iopub.status.busy": "2021-01-12T14:50:50.059673Z",
     "iopub.status.idle": "2021-01-12T14:50:50.268636Z",
     "shell.execute_reply": "2021-01-12T14:50:50.267979Z"
    },
    "papermill": {
     "duration": 0.277857,
     "end_time": "2021-01-12T14:50:50.268756",
     "exception": false,
     "start_time": "2021-01-12T14:50:49.990899",
     "status": "completed"
    },
    "scrolled": true,
    "tags": []
   },
   "outputs": [
    {
     "name": "stdout",
     "output_type": "stream",
     "text": [
      "MultinomialNB(alpha=0.2)\n",
      "Best CV score\n",
      "0.7597326720328393\n"
     ]
    }
   ],
   "source": [
    "cv = 5\n",
    "\n",
    "X_sparsed = sparse.csr_matrix(X[:, :-1])\n",
    "\n",
    "MNB = MultinomialNB()\n",
    "\n",
    "parameters = {'fit_prior': [True, False], 'alpha':[0.2, 0.5, 1]}\n",
    "\n",
    "MNB_clf = GridSearchCV(MNB, parameters, scoring='f1', cv=cv)\n",
    "\n",
    "#Without punctuation count (it's not bernoulli dist)\n",
    "MNB_clf.fit(X_sparsed,Y)\n",
    "\n",
    "print(MNB_clf.best_estimator_)\n",
    "print('Best CV score')\n",
    "print(MNB_clf.best_score_)"
   ]
  },
  {
   "cell_type": "markdown",
   "metadata": {},
   "source": [
    "**Bernoulli**"
   ]
  },
  {
   "cell_type": "code",
   "execution_count": 54,
   "metadata": {},
   "outputs": [
    {
     "name": "stdout",
     "output_type": "stream",
     "text": [
      "BernoulliNB(alpha=1, binarize=0.2, fit_prior=False)\n",
      "Best CV score\n",
      "0.7645915634751856\n"
     ]
    }
   ],
   "source": [
    "cv = 5\n",
    "\n",
    "X_sparsed = sparse.csr_matrix(X[:, :-1])\n",
    "\n",
    "BNB = BernoulliNB()\n",
    "\n",
    "parameters = {'fit_prior': [True, False], 'binarize': [0, 0.2, 0.5], 'alpha':[0.2, 0.5, 1]}\n",
    "\n",
    "BNB_clf = GridSearchCV(BNB, parameters, scoring='f1', cv=cv)\n",
    "\n",
    "#Without punctuation count (it's not bernulli dist)\n",
    "BNB_clf.fit(X_sparsed,Y)\n",
    "\n",
    "print(BNB_clf.best_estimator_)\n",
    "print('Best CV score')\n",
    "print(BNB_clf.best_score_)"
   ]
  },
  {
   "cell_type": "markdown",
   "metadata": {
    "papermill": {
     "duration": 0.058188,
     "end_time": "2021-01-12T14:50:51.394787",
     "exception": false,
     "start_time": "2021-01-12T14:50:51.336599",
     "status": "completed"
    },
    "tags": []
   },
   "source": [
    "### Logistic Regression"
   ]
  },
  {
   "cell_type": "code",
   "execution_count": 55,
   "metadata": {
    "execution": {
     "iopub.execute_input": "2021-01-12T14:50:51.524087Z",
     "iopub.status.busy": "2021-01-12T14:50:51.523077Z",
     "iopub.status.idle": "2021-01-12T14:51:35.753590Z",
     "shell.execute_reply": "2021-01-12T14:51:35.754136Z"
    },
    "papermill": {
     "duration": 44.29918,
     "end_time": "2021-01-12T14:51:35.754295",
     "exception": false,
     "start_time": "2021-01-12T14:50:51.455115",
     "status": "completed"
    },
    "scrolled": true,
    "tags": []
   },
   "outputs": [
    {
     "name": "stderr",
     "output_type": "stream",
     "text": [
      "C:\\ProgramData\\Anaconda3_1\\lib\\site-packages\\sklearn\\linear_model\\_logistic.py:1320: UserWarning: Setting penalty='none' will ignore the C and l1_ratio parameters\n",
      "  warnings.warn(\n"
     ]
    },
    {
     "name": "stdout",
     "output_type": "stream",
     "text": [
      "LogisticRegression(C=1, n_jobs=-1)\n",
      "Best CV score\n",
      "0.7526387786153679\n"
     ]
    }
   ],
   "source": [
    "cv = 5\n",
    "Cs = [0.2, 0.5, 1]\n",
    "\n",
    "X_sparsed = sparse.csr_matrix(X)\n",
    "\n",
    "Log = LogisticRegression(n_jobs = -1)\n",
    "\n",
    "parameters = {'C': Cs, 'penalty': ['l2', 'none']}\n",
    "Log_clf = GridSearchCV(Log, parameters, scoring='f1', cv=cv)\n",
    "\n",
    "Log_clf.fit(X_sparsed, Y)\n",
    "\n",
    "print(Log_clf.best_estimator_)\n",
    "print('Best CV score')\n",
    "print(Log_clf.best_score_)"
   ]
  },
  {
   "cell_type": "markdown",
   "metadata": {
    "papermill": {
     "duration": 0.058172,
     "end_time": "2021-01-12T14:51:35.872663",
     "exception": false,
     "start_time": "2021-01-12T14:51:35.814491",
     "status": "completed"
    },
    "tags": []
   },
   "source": [
    "### Support Vector Machine"
   ]
  },
  {
   "cell_type": "code",
   "execution_count": 56,
   "metadata": {
    "execution": {
     "iopub.execute_input": "2021-01-12T14:51:36.001682Z",
     "iopub.status.busy": "2021-01-12T14:51:36.000793Z",
     "iopub.status.idle": "2021-01-12T14:52:39.766735Z",
     "shell.execute_reply": "2021-01-12T14:52:39.765476Z"
    },
    "papermill": {
     "duration": 63.835096,
     "end_time": "2021-01-12T14:52:39.766859",
     "exception": false,
     "start_time": "2021-01-12T14:51:35.931763",
     "status": "completed"
    },
    "tags": []
   },
   "outputs": [
    {
     "name": "stderr",
     "output_type": "stream",
     "text": [
      "C:\\ProgramData\\Anaconda3_1\\lib\\site-packages\\sklearn\\model_selection\\_validation.py:548: FitFailedWarning: Estimator fit failed. The score on this train-test partition for these parameters will be set to nan. Details: \n",
      "Traceback (most recent call last):\n",
      "  File \"C:\\ProgramData\\Anaconda3_1\\lib\\site-packages\\sklearn\\model_selection\\_validation.py\", line 531, in _fit_and_score\n",
      "    estimator.fit(X_train, y_train, **fit_params)\n",
      "  File \"C:\\ProgramData\\Anaconda3_1\\lib\\site-packages\\sklearn\\svm\\_classes.py\", line 233, in fit\n",
      "    self.coef_, self.intercept_, self.n_iter_ = _fit_liblinear(\n",
      "  File \"C:\\ProgramData\\Anaconda3_1\\lib\\site-packages\\sklearn\\svm\\_base.py\", line 965, in _fit_liblinear\n",
      "    solver_type = _get_liblinear_solver_type(multi_class, penalty, loss, dual)\n",
      "  File \"C:\\ProgramData\\Anaconda3_1\\lib\\site-packages\\sklearn\\svm\\_base.py\", line 821, in _get_liblinear_solver_type\n",
      "    raise ValueError('Unsupported set of arguments: %s, '\n",
      "ValueError: Unsupported set of arguments: The combination of penalty='l2' and loss='hinge' are not supported when dual=False, Parameters: penalty='l2', loss='hinge', dual=False\n",
      "\n",
      "  warnings.warn(\"Estimator fit failed. The score on this train-test\"\n"
     ]
    },
    {
     "name": "stdout",
     "output_type": "stream",
     "text": [
      "LinearSVC(C=0.2, dual=False, max_iter=5000)\n",
      "Best CV score\n",
      "0.7564976700505632\n"
     ]
    }
   ],
   "source": [
    "max_iter = 5000\n",
    "Cs = [0.1, 0.2, 0.25, 0.5, 1]\n",
    "loss = ('hinge', 'squared_hinge')\n",
    "penalty = ('l2', 'l1')\n",
    "\n",
    "X_sparsed = sparse.csr_matrix(X)\n",
    "\n",
    "SVC = LinearSVC(max_iter = max_iter, dual = False)\n",
    "\n",
    "parameters = {'C': Cs, 'loss': loss}\n",
    "SVC_clf = GridSearchCV(SVC, parameters, scoring='f1', cv=cv)\n",
    "\n",
    "SVC_clf.fit(X_sparsed, Y)\n",
    "\n",
    "print(SVC_clf.best_estimator_)\n",
    "print('Best CV score')\n",
    "print(SVC_clf.best_score_)"
   ]
  },
  {
   "cell_type": "markdown",
   "metadata": {
    "papermill": {
     "duration": 0.059494,
     "end_time": "2021-01-12T14:52:39.887453",
     "exception": false,
     "start_time": "2021-01-12T14:52:39.827959",
     "status": "completed"
    },
    "tags": []
   },
   "source": [
    "## Making predictions"
   ]
  },
  {
   "cell_type": "code",
   "execution_count": 57,
   "metadata": {},
   "outputs": [],
   "source": [
    "from datetime import datetime"
   ]
  },
  {
   "cell_type": "markdown",
   "metadata": {
    "papermill": {
     "duration": 0.062228,
     "end_time": "2021-01-12T14:52:40.010315",
     "exception": false,
     "start_time": "2021-01-12T14:52:39.948087",
     "status": "completed"
    },
    "tags": []
   },
   "source": [
    "We'll use an ensamble of LogRegression, Naive Bayes"
   ]
  },
  {
   "cell_type": "markdown",
   "metadata": {},
   "source": [
    "### Test vectorization"
   ]
  },
  {
   "cell_type": "code",
   "execution_count": 58,
   "metadata": {},
   "outputs": [],
   "source": [
    "X_meta_test = np.array(test[['mentions_count_bin', 'links_count_bin', 'punctuation_count']])"
   ]
  },
  {
   "cell_type": "code",
   "execution_count": 59,
   "metadata": {},
   "outputs": [],
   "source": [
    "np.random.seed(144)\n",
    "\n",
    "X_vect_test = vect.transform(test['text']).todense()\n",
    "X_onehot_test = enc.transform(test[['location', 'keyword']]).todense()\n",
    "X_test = np.concatenate((X_vect_test, X_onehot_test, X_meta_test), axis=1)"
   ]
  },
  {
   "cell_type": "code",
   "execution_count": 60,
   "metadata": {},
   "outputs": [],
   "source": [
    "X_sparsed = sparse.csr_matrix(X)\n",
    "X_sparsed_test = sparse.csr_matrix(X_test)"
   ]
  },
  {
   "cell_type": "markdown",
   "metadata": {
    "papermill": {
     "duration": 0.062262,
     "end_time": "2021-01-12T14:52:40.602172",
     "exception": false,
     "start_time": "2021-01-12T14:52:40.539910",
     "status": "completed"
    },
    "tags": []
   },
   "source": [
    "### LogRegression"
   ]
  },
  {
   "cell_type": "code",
   "execution_count": 61,
   "metadata": {},
   "outputs": [
    {
     "data": {
      "text/plain": [
       "{'C': 1, 'penalty': 'l2'}"
      ]
     },
     "execution_count": 61,
     "metadata": {},
     "output_type": "execute_result"
    }
   ],
   "source": [
    "Log_clf.best_params_"
   ]
  },
  {
   "cell_type": "code",
   "execution_count": 62,
   "metadata": {},
   "outputs": [
    {
     "name": "stdout",
     "output_type": "stream",
     "text": [
      "Training time\n",
      "0:00:00.106715\n",
      "Predicting time\n",
      "0:00:00.000996\n"
     ]
    }
   ],
   "source": [
    "Log_clf_final = LogisticRegression(C = 1, penalty = 'l2', n_jobs=-1)\n",
    "\n",
    "start = datetime.now()\n",
    "Log_clf_final.fit(X_sparsed, Y)\n",
    "\n",
    "print('Training time')\n",
    "print(datetime.now() - start)\n",
    "\n",
    "start = datetime.now()\n",
    "LogReg_predict = Log_clf_final.predict(X_sparsed_test)\n",
    "\n",
    "print('Predicting time')\n",
    "print(datetime.now() - start)"
   ]
  },
  {
   "cell_type": "markdown",
   "metadata": {
    "papermill": {
     "duration": 0.061489,
     "end_time": "2021-01-12T14:52:48.732140",
     "exception": false,
     "start_time": "2021-01-12T14:52:48.670651",
     "status": "completed"
    },
    "tags": []
   },
   "source": [
    "### Bernoulli Naive Bayes"
   ]
  },
  {
   "cell_type": "code",
   "execution_count": 63,
   "metadata": {},
   "outputs": [
    {
     "data": {
      "text/plain": [
       "{'alpha': 1, 'binarize': 0.2, 'fit_prior': False}"
      ]
     },
     "execution_count": 63,
     "metadata": {},
     "output_type": "execute_result"
    }
   ],
   "source": [
    "BNB_clf.best_params_"
   ]
  },
  {
   "cell_type": "code",
   "execution_count": 64,
   "metadata": {},
   "outputs": [
    {
     "name": "stdout",
     "output_type": "stream",
     "text": [
      "Training time\n",
      "0:00:00.003964\n",
      "Predicting time\n",
      "0:00:00.000997\n"
     ]
    }
   ],
   "source": [
    "BNB_clf_final = BernoulliNB(alpha = 1, binarize = 0, fit_prior = False)\n",
    "\n",
    "start = datetime.now()\n",
    "BNB_clf_final.fit(X_sparsed, Y)\n",
    "\n",
    "print('Training time')\n",
    "print(datetime.now() - start)\n",
    "\n",
    "start = datetime.now()\n",
    "BNB_predict = BNB_clf_final.predict(X_sparsed_test)\n",
    "\n",
    "print('Predicting time')\n",
    "print(datetime.now() - start)"
   ]
  },
  {
   "cell_type": "markdown",
   "metadata": {},
   "source": [
    "### Multinomial Naive Bayes"
   ]
  },
  {
   "cell_type": "code",
   "execution_count": 65,
   "metadata": {},
   "outputs": [
    {
     "data": {
      "text/plain": [
       "{'alpha': 0.2, 'fit_prior': True}"
      ]
     },
     "execution_count": 65,
     "metadata": {},
     "output_type": "execute_result"
    }
   ],
   "source": [
    "MNB_clf.best_params_"
   ]
  },
  {
   "cell_type": "code",
   "execution_count": 66,
   "metadata": {},
   "outputs": [
    {
     "name": "stdout",
     "output_type": "stream",
     "text": [
      "Training time\n",
      "0:00:00.004004\n",
      "Predicting time\n",
      "0:00:00.001411\n"
     ]
    }
   ],
   "source": [
    "MNB_clf_final = MultinomialNB(alpha = 0.5,fit_prior = False)\n",
    "\n",
    "start = datetime.now()\n",
    "MNB_clf_final.fit(X_sparsed, Y)\n",
    "\n",
    "print('Training time')\n",
    "print(datetime.now() - start)\n",
    "\n",
    "start = datetime.now()\n",
    "MNB_predict = MNB_clf_final.predict(X_sparsed_test)\n",
    "\n",
    "print('Predicting time')\n",
    "print(datetime.now() - start)"
   ]
  },
  {
   "cell_type": "code",
   "execution_count": 67,
   "metadata": {},
   "outputs": [
    {
     "data": {
      "text/plain": [
       "array([1, 1, 1, ..., 1, 1, 1], dtype=int64)"
      ]
     },
     "execution_count": 67,
     "metadata": {},
     "output_type": "execute_result"
    }
   ],
   "source": [
    "MNB_predict"
   ]
  },
  {
   "cell_type": "markdown",
   "metadata": {},
   "source": [
    "### Support Vector Machine"
   ]
  },
  {
   "cell_type": "code",
   "execution_count": 68,
   "metadata": {},
   "outputs": [
    {
     "data": {
      "text/plain": [
       "{'C': 0.2, 'loss': 'squared_hinge'}"
      ]
     },
     "execution_count": 68,
     "metadata": {},
     "output_type": "execute_result"
    }
   ],
   "source": [
    "SVC_clf.best_params_"
   ]
  },
  {
   "cell_type": "code",
   "execution_count": 69,
   "metadata": {},
   "outputs": [
    {
     "name": "stdout",
     "output_type": "stream",
     "text": [
      "Training time\n",
      "0:00:00.019919\n",
      "Predicting time\n",
      "0:00:00.001055\n"
     ]
    }
   ],
   "source": [
    "SVC_clf_final = LinearSVC(C = 0.2, loss='squared_hinge', max_iter = 5000)\n",
    "\n",
    "start = datetime.now()\n",
    "SVC_clf_final.fit(X_sparsed, Y)\n",
    "\n",
    "print('Training time')\n",
    "print(datetime.now() - start)\n",
    "\n",
    "start = datetime.now()\n",
    "SVC_predict = SVC_clf_final.predict(X_sparsed_test)\n",
    "\n",
    "print('Predicting time')\n",
    "print(datetime.now() - start)"
   ]
  },
  {
   "cell_type": "markdown",
   "metadata": {
    "papermill": {
     "duration": 0.065102,
     "end_time": "2021-01-12T14:53:47.711520",
     "exception": false,
     "start_time": "2021-01-12T14:53:47.646418",
     "status": "completed"
    },
    "tags": []
   },
   "source": [
    "### Voting Classifier from MNB, BNB and Log Reg"
   ]
  },
  {
   "cell_type": "code",
   "execution_count": 70,
   "metadata": {},
   "outputs": [],
   "source": [
    "ens_clf = VotingClassifier(voting='soft', estimators = [('BNB', BNB_clf_final), ('MNB', MNB_clf_final), \n",
    "                                                       ('LogReg', Log_clf_final)])"
   ]
  },
  {
   "cell_type": "code",
   "execution_count": 71,
   "metadata": {},
   "outputs": [],
   "source": [
    "ens_clf.fit(X_sparsed, Y)\n",
    "ens_predict = ens_clf.predict(X_sparsed_test)"
   ]
  },
  {
   "cell_type": "code",
   "execution_count": 72,
   "metadata": {},
   "outputs": [],
   "source": [
    "for name, predict in [('LogReg', LogReg_predict), ('MNB', MNB_predict),\n",
    "                      ('BNB', BNB_predict), ('SVM', SVC_predict),\n",
    "                     ('Ensamble', ens_predict)]:\n",
    "    result_df = pd.DataFrame(test['id'].values, columns=['id']) \n",
    "    result_df['target'] = predict.astype(int)\n",
    "    result_df.to_csv(path_or_buf=r'./disaster_tweets/submission_' + name + '.csv', index=False)"
   ]
  },
  {
   "cell_type": "markdown",
   "metadata": {},
   "source": [
    "**Saving trained models without using 'location' and 'keyword' features for future using**"
   ]
  },
  {
   "cell_type": "code",
   "execution_count": 73,
   "metadata": {},
   "outputs": [],
   "source": [
    "X_meta = np.array(train[['mentions_count_bin', 'links_count_bin', 'punctuation_count']])\n",
    "X_vect = vect.transform(train['text']).todense()\n",
    "X = np.concatenate((X_vect, X_meta), axis=1)\n",
    "Y = train['target']"
   ]
  },
  {
   "cell_type": "code",
   "execution_count": 89,
   "metadata": {},
   "outputs": [
    {
     "data": {
      "text/plain": [
       "VotingClassifier(estimators=[('BNB', LogisticRegression(C=1, n_jobs=-1)),\n",
       "                             ('MNB',\n",
       "                              BernoulliNB(alpha=1, binarize=0,\n",
       "                                          fit_prior=False)),\n",
       "                             ('LogReg',\n",
       "                              MultinomialNB(alpha=0.5, fit_prior=False))],\n",
       "                 voting='soft')"
      ]
     },
     "execution_count": 89,
     "metadata": {},
     "output_type": "execute_result"
    }
   ],
   "source": [
    "Log_clf = LogisticRegression(C = 1, penalty = 'l2', n_jobs=-1)\n",
    "Log_clf.fit(X, Y)\n",
    "\n",
    "BNB_clf = BernoulliNB(alpha = 1, binarize = 0, fit_prior = False)\n",
    "BNB_clf.fit(X, Y)\n",
    "\n",
    "MNB_clf = MultinomialNB(alpha = 0.5,fit_prior = False)\n",
    "MNB_clf.fit(X, Y)\n",
    "\n",
    "ens_clf = VotingClassifier(voting='soft', estimators = [('BNB', Log_clf), ('MNB', BNB_clf), \n",
    "                                                       ('LogReg', MNB_clf)])\n",
    "ens_clf.fit(X, Y)"
   ]
  },
  {
   "cell_type": "code",
   "execution_count": 90,
   "metadata": {},
   "outputs": [],
   "source": [
    "pickle.dump(Log_clf, open(r'disaster_tweets/models/LogReg_model.sav', 'wb'))\n",
    "pickle.dump(BNB_clf, open(r'disaster_tweets/models/BNB_model.sav', 'wb'))\n",
    "pickle.dump(MNB_clf, open(r'disaster_tweets/models/MNB_model.sav', 'wb'))\n",
    "pickle.dump(ens_clf, open(r'disaster_tweets/models/ens_model.sav', 'wb'))\n",
    "pickle.dump(vect, open(r'disaster_tweets/models/vectorizer.sav', 'wb'))"
   ]
  }
 ],
 "metadata": {
  "kernelspec": {
   "display_name": "Python 3",
   "language": "python",
   "name": "python3"
  },
  "language_info": {
   "codemirror_mode": {
    "name": "ipython",
    "version": 3
   },
   "file_extension": ".py",
   "mimetype": "text/x-python",
   "name": "python",
   "nbconvert_exporter": "python",
   "pygments_lexer": "ipython3",
   "version": "3.8.3"
  },
  "papermill": {
   "duration": 383.17614,
   "end_time": "2021-01-12T14:53:48.827553",
   "environment_variables": {},
   "exception": null,
   "input_path": "__notebook__.ipynb",
   "output_path": "__notebook__.ipynb",
   "parameters": {},
   "start_time": "2021-01-12T14:47:25.651413",
   "version": "2.1.0"
  }
 },
 "nbformat": 4,
 "nbformat_minor": 4
}
