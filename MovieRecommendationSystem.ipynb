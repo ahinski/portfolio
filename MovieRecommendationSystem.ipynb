{
 "cells": [
  {
   "cell_type": "markdown",
   "metadata": {},
   "source": [
    "# MovieLens collaborative filtering recommendation system"
   ]
  },
  {
   "cell_type": "markdown",
   "metadata": {},
   "source": [
    "## Problem framing"
   ]
  },
  {
   "cell_type": "markdown",
   "metadata": {},
   "source": [
    "We want to create a model, that will recommend users new movies, based on their ratings on movies he already watched.\n",
    "\n",
    "Also it'll recommend new movies similar to movie X if you liked it."
   ]
  },
  {
   "cell_type": "markdown",
   "metadata": {},
   "source": [
    "## Model's quality control"
   ]
  },
  {
   "cell_type": "markdown",
   "metadata": {},
   "source": [
    "Because of a lack of posibility to use online-metrics (recommend movies to users and check if they would watch and liked it) we'll try to recreate this situation by artificially deleting some of user's ratings on movies and check if system will recommend them after."
   ]
  },
  {
   "cell_type": "markdown",
   "metadata": {},
   "source": [
    "## Data analysis"
   ]
  },
  {
   "cell_type": "code",
   "execution_count": 1,
   "metadata": {},
   "outputs": [],
   "source": [
    "import pandas as pd\n",
    "import numpy as np\n",
    "import matplotlib.pyplot as plt\n",
    "import seaborn as sns\n",
    "import re\n",
    "import time\n",
    "import random\n",
    "\n",
    "from sklearn.feature_extraction.text import CountVectorizer\n",
    "from sklearn.preprocessing import normalize\n",
    "from sklearn.preprocessing import StandardScaler\n",
    "\n",
    "plt.rcParams['figure.figsize']=(10,10)"
   ]
  },
  {
   "cell_type": "code",
   "execution_count": 2,
   "metadata": {
    "scrolled": false
   },
   "outputs": [
    {
     "name": "stdout",
     "output_type": "stream",
     "text": [
      "links: \n",
      "   movieId  imdbId   tmdbId\n",
      "0        1  114709    862.0\n",
      "1        2  113497   8844.0\n",
      "2        3  113228  15602.0\n",
      "3        4  114885  31357.0\n",
      "4        5  113041  11862.0\n",
      "\n",
      "\n",
      "movies: \n",
      "   movieId                               title  \\\n",
      "0        1                    Toy Story (1995)   \n",
      "1        2                      Jumanji (1995)   \n",
      "2        3             Grumpier Old Men (1995)   \n",
      "3        4            Waiting to Exhale (1995)   \n",
      "4        5  Father of the Bride Part II (1995)   \n",
      "\n",
      "                                        genres  \n",
      "0  Adventure|Animation|Children|Comedy|Fantasy  \n",
      "1                   Adventure|Children|Fantasy  \n",
      "2                               Comedy|Romance  \n",
      "3                         Comedy|Drama|Romance  \n",
      "4                                       Comedy  \n",
      "\n",
      "\n",
      "ratings: \n",
      "   userId  movieId  rating            timestamp\n",
      "0       1        2     3.5  2005-04-02 23:53:47\n",
      "1       1       29     3.5  2005-04-02 23:31:16\n",
      "2       1       32     3.5  2005-04-02 23:33:39\n",
      "3       1       47     3.5  2005-04-02 23:32:07\n",
      "4       1       50     3.5  2005-04-02 23:29:40\n",
      "\n",
      "\n",
      "tags: \n",
      "   userId  movieId            tag            timestamp\n",
      "0      18     4141    Mark Waters  2009-04-24 18:19:40\n",
      "1      65      208      dark hero  2013-05-10 01:41:18\n",
      "2      65      353      dark hero  2013-05-10 01:41:19\n",
      "3      65      521  noir thriller  2013-05-10 01:39:43\n",
      "4      65      592      dark hero  2013-05-10 01:41:18\n",
      "\n",
      "\n"
     ]
    }
   ],
   "source": [
    "links = pd.read_csv(r'movie_recommendation/data/link.csv')\n",
    "movies = pd.read_csv(r'movie_recommendation/data/movie.csv')\n",
    "ratings = pd.read_csv(r'movie_recommendation/data/rating.csv')\n",
    "tags = pd.read_csv(r'movie_recommendation/data/tag.csv')\n",
    "\n",
    "print('links: ')\n",
    "print(links.head())\n",
    "print('\\n')\n",
    "print('movies: ')\n",
    "print(movies.head())\n",
    "print('\\n')\n",
    "print('ratings: ')\n",
    "print(ratings.head())\n",
    "print('\\n')\n",
    "print('tags: ')\n",
    "print(tags.head())\n",
    "print('\\n')"
   ]
  },
  {
   "cell_type": "code",
   "execution_count": 3,
   "metadata": {},
   "outputs": [
    {
     "data": {
      "text/html": [
       "<div>\n",
       "<style scoped>\n",
       "    .dataframe tbody tr th:only-of-type {\n",
       "        vertical-align: middle;\n",
       "    }\n",
       "\n",
       "    .dataframe tbody tr th {\n",
       "        vertical-align: top;\n",
       "    }\n",
       "\n",
       "    .dataframe thead th {\n",
       "        text-align: right;\n",
       "    }\n",
       "</style>\n",
       "<table border=\"1\" class=\"dataframe\">\n",
       "  <thead>\n",
       "    <tr style=\"text-align: right;\">\n",
       "      <th></th>\n",
       "      <th>userId</th>\n",
       "      <th>movieId</th>\n",
       "      <th>rating</th>\n",
       "    </tr>\n",
       "  </thead>\n",
       "  <tbody>\n",
       "    <tr>\n",
       "      <th>count</th>\n",
       "      <td>2.000026e+07</td>\n",
       "      <td>2.000026e+07</td>\n",
       "      <td>2.000026e+07</td>\n",
       "    </tr>\n",
       "    <tr>\n",
       "      <th>mean</th>\n",
       "      <td>6.904587e+04</td>\n",
       "      <td>9.041567e+03</td>\n",
       "      <td>3.525529e+00</td>\n",
       "    </tr>\n",
       "    <tr>\n",
       "      <th>std</th>\n",
       "      <td>4.003863e+04</td>\n",
       "      <td>1.978948e+04</td>\n",
       "      <td>1.051989e+00</td>\n",
       "    </tr>\n",
       "    <tr>\n",
       "      <th>min</th>\n",
       "      <td>1.000000e+00</td>\n",
       "      <td>1.000000e+00</td>\n",
       "      <td>5.000000e-01</td>\n",
       "    </tr>\n",
       "    <tr>\n",
       "      <th>25%</th>\n",
       "      <td>3.439500e+04</td>\n",
       "      <td>9.020000e+02</td>\n",
       "      <td>3.000000e+00</td>\n",
       "    </tr>\n",
       "    <tr>\n",
       "      <th>50%</th>\n",
       "      <td>6.914100e+04</td>\n",
       "      <td>2.167000e+03</td>\n",
       "      <td>3.500000e+00</td>\n",
       "    </tr>\n",
       "    <tr>\n",
       "      <th>75%</th>\n",
       "      <td>1.036370e+05</td>\n",
       "      <td>4.770000e+03</td>\n",
       "      <td>4.000000e+00</td>\n",
       "    </tr>\n",
       "    <tr>\n",
       "      <th>max</th>\n",
       "      <td>1.384930e+05</td>\n",
       "      <td>1.312620e+05</td>\n",
       "      <td>5.000000e+00</td>\n",
       "    </tr>\n",
       "  </tbody>\n",
       "</table>\n",
       "</div>"
      ],
      "text/plain": [
       "             userId       movieId        rating\n",
       "count  2.000026e+07  2.000026e+07  2.000026e+07\n",
       "mean   6.904587e+04  9.041567e+03  3.525529e+00\n",
       "std    4.003863e+04  1.978948e+04  1.051989e+00\n",
       "min    1.000000e+00  1.000000e+00  5.000000e-01\n",
       "25%    3.439500e+04  9.020000e+02  3.000000e+00\n",
       "50%    6.914100e+04  2.167000e+03  3.500000e+00\n",
       "75%    1.036370e+05  4.770000e+03  4.000000e+00\n",
       "max    1.384930e+05  1.312620e+05  5.000000e+00"
      ]
     },
     "execution_count": 3,
     "metadata": {},
     "output_type": "execute_result"
    }
   ],
   "source": [
    "ratings.describe()"
   ]
  },
  {
   "cell_type": "markdown",
   "metadata": {},
   "source": [
    "**At the first we'll check if our data is balanced.**"
   ]
  },
  {
   "cell_type": "code",
   "execution_count": 4,
   "metadata": {},
   "outputs": [
    {
     "data": {
      "text/plain": [
       "count    138493.000000\n",
       "mean        144.413530\n",
       "std         230.267257\n",
       "min          20.000000\n",
       "25%          35.000000\n",
       "50%          68.000000\n",
       "75%         155.000000\n",
       "max        9254.000000\n",
       "Name: userId, dtype: float64"
      ]
     },
     "execution_count": 4,
     "metadata": {},
     "output_type": "execute_result"
    }
   ],
   "source": [
    "#Amount of movies users have rated \n",
    "ratings['userId'].value_counts().describe()"
   ]
  },
  {
   "cell_type": "markdown",
   "metadata": {},
   "source": [
    "The median user rated 68 movies, the std is about 230, so there is a dispersion in the amount of movies users have rated, but overall data seems to be balanced."
   ]
  },
  {
   "cell_type": "code",
   "execution_count": 5,
   "metadata": {},
   "outputs": [
    {
     "data": {
      "text/plain": [
       "count    26744.000000\n",
       "mean       747.841123\n",
       "std       3085.818268\n",
       "min          1.000000\n",
       "25%          3.000000\n",
       "50%         18.000000\n",
       "75%        205.000000\n",
       "max      67310.000000\n",
       "Name: movieId, dtype: float64"
      ]
     },
     "execution_count": 5,
     "metadata": {},
     "output_type": "execute_result"
    }
   ],
   "source": [
    "ratings['movieId'].value_counts().describe()"
   ]
  },
  {
   "cell_type": "markdown",
   "metadata": {},
   "source": [
    "There are many unpopular movies with small amount of user's ratings, while the max value is about 200k."
   ]
  },
  {
   "cell_type": "markdown",
   "metadata": {},
   "source": [
    "**Overall data seems to be balanced, the only problem are rare movies with small amounts of ratings.**"
   ]
  },
  {
   "cell_type": "markdown",
   "metadata": {},
   "source": [
    "## Data Preprocessing"
   ]
  },
  {
   "cell_type": "markdown",
   "metadata": {},
   "source": [
    "### Decrease memory usage by changing dtype"
   ]
  },
  {
   "cell_type": "code",
   "execution_count": 6,
   "metadata": {},
   "outputs": [],
   "source": [
    "ratings['rating'] = ratings['rating'].astype('float32')"
   ]
  },
  {
   "cell_type": "markdown",
   "metadata": {},
   "source": [
    "### Create user-item matrix"
   ]
  },
  {
   "cell_type": "markdown",
   "metadata": {
    "scrolled": true
   },
   "source": [
    "In terms of estimation time and memory usage we'll use 500k samples for learning."
   ]
  },
  {
   "cell_type": "code",
   "execution_count": 7,
   "metadata": {},
   "outputs": [
    {
     "name": "stdout",
     "output_type": "stream",
     "text": [
      "full:\n",
      "count    138493.000000\n",
      "mean        144.413530\n",
      "std         230.267257\n",
      "min          20.000000\n",
      "25%          35.000000\n",
      "50%          68.000000\n",
      "75%         155.000000\n",
      "max        9254.000000\n",
      "Name: userId, dtype: float64\n",
      "mln samples:\n",
      "count    3553.000000\n",
      "mean      140.726147\n",
      "std       223.118061\n",
      "min         2.000000\n",
      "25%        33.000000\n",
      "50%        65.000000\n",
      "75%       150.000000\n",
      "max      3383.000000\n",
      "Name: userId, dtype: float64\n"
     ]
    }
   ],
   "source": [
    "#Amount of movies users have rated \n",
    "print('full:')\n",
    "print(ratings['userId'].value_counts().describe())\n",
    "print('mln samples:')\n",
    "print(ratings.iloc[-500000:, :]['userId'].value_counts().describe())"
   ]
  },
  {
   "cell_type": "code",
   "execution_count": 8,
   "metadata": {},
   "outputs": [
    {
     "name": "stdout",
     "output_type": "stream",
     "text": [
      "count    26744.000000\n",
      "mean       747.841123\n",
      "std       3085.818268\n",
      "min          1.000000\n",
      "25%          3.000000\n",
      "50%         18.000000\n",
      "75%        205.000000\n",
      "max      67310.000000\n",
      "Name: movieId, dtype: float64\n",
      "count    12608.000000\n",
      "mean        39.657360\n",
      "std        109.438422\n",
      "min          1.000000\n",
      "25%          2.000000\n",
      "50%          6.000000\n",
      "75%         25.000000\n",
      "max       1683.000000\n",
      "Name: movieId, dtype: float64\n"
     ]
    }
   ],
   "source": [
    "print(ratings['movieId'].value_counts().describe())\n",
    "print(ratings.iloc[-500000:, :]['movieId'].value_counts().describe())"
   ]
  },
  {
   "cell_type": "markdown",
   "metadata": {},
   "source": [
    "According to statistical characteristics 250k samples are representative so we'll use it for learning"
   ]
  },
  {
   "cell_type": "code",
   "execution_count": 9,
   "metadata": {},
   "outputs": [],
   "source": [
    "UI_matrix = ratings.iloc[-500000:, :].pivot(index='userId', columns='movieId', values='rating')"
   ]
  },
  {
   "cell_type": "code",
   "execution_count": 10,
   "metadata": {
    "scrolled": true
   },
   "outputs": [
    {
     "data": {
      "text/html": [
       "<div>\n",
       "<style scoped>\n",
       "    .dataframe tbody tr th:only-of-type {\n",
       "        vertical-align: middle;\n",
       "    }\n",
       "\n",
       "    .dataframe tbody tr th {\n",
       "        vertical-align: top;\n",
       "    }\n",
       "\n",
       "    .dataframe thead th {\n",
       "        text-align: right;\n",
       "    }\n",
       "</style>\n",
       "<table border=\"1\" class=\"dataframe\">\n",
       "  <thead>\n",
       "    <tr style=\"text-align: right;\">\n",
       "      <th>movieId</th>\n",
       "      <th>1</th>\n",
       "      <th>2</th>\n",
       "      <th>3</th>\n",
       "      <th>4</th>\n",
       "      <th>5</th>\n",
       "      <th>6</th>\n",
       "      <th>7</th>\n",
       "      <th>8</th>\n",
       "      <th>9</th>\n",
       "      <th>10</th>\n",
       "      <th>...</th>\n",
       "      <th>129428</th>\n",
       "      <th>129528</th>\n",
       "      <th>129532</th>\n",
       "      <th>129555</th>\n",
       "      <th>129838</th>\n",
       "      <th>130522</th>\n",
       "      <th>130642</th>\n",
       "      <th>130840</th>\n",
       "      <th>131013</th>\n",
       "      <th>131158</th>\n",
       "    </tr>\n",
       "    <tr>\n",
       "      <th>userId</th>\n",
       "      <th></th>\n",
       "      <th></th>\n",
       "      <th></th>\n",
       "      <th></th>\n",
       "      <th></th>\n",
       "      <th></th>\n",
       "      <th></th>\n",
       "      <th></th>\n",
       "      <th></th>\n",
       "      <th></th>\n",
       "      <th></th>\n",
       "      <th></th>\n",
       "      <th></th>\n",
       "      <th></th>\n",
       "      <th></th>\n",
       "      <th></th>\n",
       "      <th></th>\n",
       "      <th></th>\n",
       "      <th></th>\n",
       "      <th></th>\n",
       "      <th></th>\n",
       "    </tr>\n",
       "  </thead>\n",
       "  <tbody>\n",
       "    <tr>\n",
       "      <th>134941</th>\n",
       "      <td>NaN</td>\n",
       "      <td>NaN</td>\n",
       "      <td>NaN</td>\n",
       "      <td>NaN</td>\n",
       "      <td>NaN</td>\n",
       "      <td>NaN</td>\n",
       "      <td>NaN</td>\n",
       "      <td>NaN</td>\n",
       "      <td>NaN</td>\n",
       "      <td>NaN</td>\n",
       "      <td>...</td>\n",
       "      <td>NaN</td>\n",
       "      <td>NaN</td>\n",
       "      <td>NaN</td>\n",
       "      <td>NaN</td>\n",
       "      <td>NaN</td>\n",
       "      <td>NaN</td>\n",
       "      <td>NaN</td>\n",
       "      <td>NaN</td>\n",
       "      <td>NaN</td>\n",
       "      <td>NaN</td>\n",
       "    </tr>\n",
       "    <tr>\n",
       "      <th>134942</th>\n",
       "      <td>NaN</td>\n",
       "      <td>NaN</td>\n",
       "      <td>NaN</td>\n",
       "      <td>NaN</td>\n",
       "      <td>NaN</td>\n",
       "      <td>NaN</td>\n",
       "      <td>NaN</td>\n",
       "      <td>NaN</td>\n",
       "      <td>NaN</td>\n",
       "      <td>NaN</td>\n",
       "      <td>...</td>\n",
       "      <td>NaN</td>\n",
       "      <td>NaN</td>\n",
       "      <td>NaN</td>\n",
       "      <td>NaN</td>\n",
       "      <td>NaN</td>\n",
       "      <td>NaN</td>\n",
       "      <td>NaN</td>\n",
       "      <td>NaN</td>\n",
       "      <td>NaN</td>\n",
       "      <td>NaN</td>\n",
       "    </tr>\n",
       "    <tr>\n",
       "      <th>134943</th>\n",
       "      <td>NaN</td>\n",
       "      <td>NaN</td>\n",
       "      <td>NaN</td>\n",
       "      <td>NaN</td>\n",
       "      <td>NaN</td>\n",
       "      <td>NaN</td>\n",
       "      <td>NaN</td>\n",
       "      <td>NaN</td>\n",
       "      <td>NaN</td>\n",
       "      <td>NaN</td>\n",
       "      <td>...</td>\n",
       "      <td>NaN</td>\n",
       "      <td>NaN</td>\n",
       "      <td>NaN</td>\n",
       "      <td>NaN</td>\n",
       "      <td>NaN</td>\n",
       "      <td>NaN</td>\n",
       "      <td>NaN</td>\n",
       "      <td>NaN</td>\n",
       "      <td>NaN</td>\n",
       "      <td>NaN</td>\n",
       "    </tr>\n",
       "    <tr>\n",
       "      <th>134944</th>\n",
       "      <td>3.0</td>\n",
       "      <td>NaN</td>\n",
       "      <td>NaN</td>\n",
       "      <td>NaN</td>\n",
       "      <td>NaN</td>\n",
       "      <td>NaN</td>\n",
       "      <td>NaN</td>\n",
       "      <td>NaN</td>\n",
       "      <td>NaN</td>\n",
       "      <td>NaN</td>\n",
       "      <td>...</td>\n",
       "      <td>NaN</td>\n",
       "      <td>NaN</td>\n",
       "      <td>NaN</td>\n",
       "      <td>NaN</td>\n",
       "      <td>NaN</td>\n",
       "      <td>NaN</td>\n",
       "      <td>NaN</td>\n",
       "      <td>NaN</td>\n",
       "      <td>NaN</td>\n",
       "      <td>NaN</td>\n",
       "    </tr>\n",
       "    <tr>\n",
       "      <th>134945</th>\n",
       "      <td>NaN</td>\n",
       "      <td>NaN</td>\n",
       "      <td>NaN</td>\n",
       "      <td>NaN</td>\n",
       "      <td>NaN</td>\n",
       "      <td>NaN</td>\n",
       "      <td>NaN</td>\n",
       "      <td>NaN</td>\n",
       "      <td>NaN</td>\n",
       "      <td>NaN</td>\n",
       "      <td>...</td>\n",
       "      <td>NaN</td>\n",
       "      <td>NaN</td>\n",
       "      <td>NaN</td>\n",
       "      <td>NaN</td>\n",
       "      <td>NaN</td>\n",
       "      <td>NaN</td>\n",
       "      <td>NaN</td>\n",
       "      <td>NaN</td>\n",
       "      <td>NaN</td>\n",
       "      <td>NaN</td>\n",
       "    </tr>\n",
       "    <tr>\n",
       "      <th>...</th>\n",
       "      <td>...</td>\n",
       "      <td>...</td>\n",
       "      <td>...</td>\n",
       "      <td>...</td>\n",
       "      <td>...</td>\n",
       "      <td>...</td>\n",
       "      <td>...</td>\n",
       "      <td>...</td>\n",
       "      <td>...</td>\n",
       "      <td>...</td>\n",
       "      <td>...</td>\n",
       "      <td>...</td>\n",
       "      <td>...</td>\n",
       "      <td>...</td>\n",
       "      <td>...</td>\n",
       "      <td>...</td>\n",
       "      <td>...</td>\n",
       "      <td>...</td>\n",
       "      <td>...</td>\n",
       "      <td>...</td>\n",
       "      <td>...</td>\n",
       "    </tr>\n",
       "    <tr>\n",
       "      <th>138489</th>\n",
       "      <td>NaN</td>\n",
       "      <td>NaN</td>\n",
       "      <td>NaN</td>\n",
       "      <td>NaN</td>\n",
       "      <td>NaN</td>\n",
       "      <td>NaN</td>\n",
       "      <td>NaN</td>\n",
       "      <td>NaN</td>\n",
       "      <td>NaN</td>\n",
       "      <td>NaN</td>\n",
       "      <td>...</td>\n",
       "      <td>NaN</td>\n",
       "      <td>NaN</td>\n",
       "      <td>NaN</td>\n",
       "      <td>NaN</td>\n",
       "      <td>NaN</td>\n",
       "      <td>NaN</td>\n",
       "      <td>NaN</td>\n",
       "      <td>NaN</td>\n",
       "      <td>NaN</td>\n",
       "      <td>NaN</td>\n",
       "    </tr>\n",
       "    <tr>\n",
       "      <th>138490</th>\n",
       "      <td>NaN</td>\n",
       "      <td>NaN</td>\n",
       "      <td>NaN</td>\n",
       "      <td>NaN</td>\n",
       "      <td>NaN</td>\n",
       "      <td>NaN</td>\n",
       "      <td>NaN</td>\n",
       "      <td>NaN</td>\n",
       "      <td>NaN</td>\n",
       "      <td>NaN</td>\n",
       "      <td>...</td>\n",
       "      <td>NaN</td>\n",
       "      <td>NaN</td>\n",
       "      <td>NaN</td>\n",
       "      <td>NaN</td>\n",
       "      <td>NaN</td>\n",
       "      <td>NaN</td>\n",
       "      <td>NaN</td>\n",
       "      <td>NaN</td>\n",
       "      <td>NaN</td>\n",
       "      <td>NaN</td>\n",
       "    </tr>\n",
       "    <tr>\n",
       "      <th>138491</th>\n",
       "      <td>2.0</td>\n",
       "      <td>NaN</td>\n",
       "      <td>NaN</td>\n",
       "      <td>NaN</td>\n",
       "      <td>NaN</td>\n",
       "      <td>NaN</td>\n",
       "      <td>NaN</td>\n",
       "      <td>NaN</td>\n",
       "      <td>NaN</td>\n",
       "      <td>NaN</td>\n",
       "      <td>...</td>\n",
       "      <td>NaN</td>\n",
       "      <td>NaN</td>\n",
       "      <td>NaN</td>\n",
       "      <td>NaN</td>\n",
       "      <td>NaN</td>\n",
       "      <td>NaN</td>\n",
       "      <td>NaN</td>\n",
       "      <td>NaN</td>\n",
       "      <td>NaN</td>\n",
       "      <td>NaN</td>\n",
       "    </tr>\n",
       "    <tr>\n",
       "      <th>138492</th>\n",
       "      <td>NaN</td>\n",
       "      <td>NaN</td>\n",
       "      <td>NaN</td>\n",
       "      <td>NaN</td>\n",
       "      <td>NaN</td>\n",
       "      <td>NaN</td>\n",
       "      <td>NaN</td>\n",
       "      <td>NaN</td>\n",
       "      <td>NaN</td>\n",
       "      <td>NaN</td>\n",
       "      <td>...</td>\n",
       "      <td>NaN</td>\n",
       "      <td>NaN</td>\n",
       "      <td>NaN</td>\n",
       "      <td>NaN</td>\n",
       "      <td>NaN</td>\n",
       "      <td>NaN</td>\n",
       "      <td>NaN</td>\n",
       "      <td>NaN</td>\n",
       "      <td>NaN</td>\n",
       "      <td>NaN</td>\n",
       "    </tr>\n",
       "    <tr>\n",
       "      <th>138493</th>\n",
       "      <td>3.5</td>\n",
       "      <td>4.0</td>\n",
       "      <td>NaN</td>\n",
       "      <td>NaN</td>\n",
       "      <td>NaN</td>\n",
       "      <td>NaN</td>\n",
       "      <td>NaN</td>\n",
       "      <td>NaN</td>\n",
       "      <td>NaN</td>\n",
       "      <td>NaN</td>\n",
       "      <td>...</td>\n",
       "      <td>NaN</td>\n",
       "      <td>NaN</td>\n",
       "      <td>NaN</td>\n",
       "      <td>NaN</td>\n",
       "      <td>NaN</td>\n",
       "      <td>NaN</td>\n",
       "      <td>NaN</td>\n",
       "      <td>NaN</td>\n",
       "      <td>NaN</td>\n",
       "      <td>NaN</td>\n",
       "    </tr>\n",
       "  </tbody>\n",
       "</table>\n",
       "<p>3553 rows × 12608 columns</p>\n",
       "</div>"
      ],
      "text/plain": [
       "movieId  1       2       3       4       5       6       7       8       \\\n",
       "userId                                                                    \n",
       "134941      NaN     NaN     NaN     NaN     NaN     NaN     NaN     NaN   \n",
       "134942      NaN     NaN     NaN     NaN     NaN     NaN     NaN     NaN   \n",
       "134943      NaN     NaN     NaN     NaN     NaN     NaN     NaN     NaN   \n",
       "134944      3.0     NaN     NaN     NaN     NaN     NaN     NaN     NaN   \n",
       "134945      NaN     NaN     NaN     NaN     NaN     NaN     NaN     NaN   \n",
       "...         ...     ...     ...     ...     ...     ...     ...     ...   \n",
       "138489      NaN     NaN     NaN     NaN     NaN     NaN     NaN     NaN   \n",
       "138490      NaN     NaN     NaN     NaN     NaN     NaN     NaN     NaN   \n",
       "138491      2.0     NaN     NaN     NaN     NaN     NaN     NaN     NaN   \n",
       "138492      NaN     NaN     NaN     NaN     NaN     NaN     NaN     NaN   \n",
       "138493      3.5     4.0     NaN     NaN     NaN     NaN     NaN     NaN   \n",
       "\n",
       "movieId  9       10      ...  129428  129528  129532  129555  129838  130522  \\\n",
       "userId                   ...                                                   \n",
       "134941      NaN     NaN  ...     NaN     NaN     NaN     NaN     NaN     NaN   \n",
       "134942      NaN     NaN  ...     NaN     NaN     NaN     NaN     NaN     NaN   \n",
       "134943      NaN     NaN  ...     NaN     NaN     NaN     NaN     NaN     NaN   \n",
       "134944      NaN     NaN  ...     NaN     NaN     NaN     NaN     NaN     NaN   \n",
       "134945      NaN     NaN  ...     NaN     NaN     NaN     NaN     NaN     NaN   \n",
       "...         ...     ...  ...     ...     ...     ...     ...     ...     ...   \n",
       "138489      NaN     NaN  ...     NaN     NaN     NaN     NaN     NaN     NaN   \n",
       "138490      NaN     NaN  ...     NaN     NaN     NaN     NaN     NaN     NaN   \n",
       "138491      NaN     NaN  ...     NaN     NaN     NaN     NaN     NaN     NaN   \n",
       "138492      NaN     NaN  ...     NaN     NaN     NaN     NaN     NaN     NaN   \n",
       "138493      NaN     NaN  ...     NaN     NaN     NaN     NaN     NaN     NaN   \n",
       "\n",
       "movieId  130642  130840  131013  131158  \n",
       "userId                                   \n",
       "134941      NaN     NaN     NaN     NaN  \n",
       "134942      NaN     NaN     NaN     NaN  \n",
       "134943      NaN     NaN     NaN     NaN  \n",
       "134944      NaN     NaN     NaN     NaN  \n",
       "134945      NaN     NaN     NaN     NaN  \n",
       "...         ...     ...     ...     ...  \n",
       "138489      NaN     NaN     NaN     NaN  \n",
       "138490      NaN     NaN     NaN     NaN  \n",
       "138491      NaN     NaN     NaN     NaN  \n",
       "138492      NaN     NaN     NaN     NaN  \n",
       "138493      NaN     NaN     NaN     NaN  \n",
       "\n",
       "[3553 rows x 12608 columns]"
      ]
     },
     "execution_count": 10,
     "metadata": {},
     "output_type": "execute_result"
    }
   ],
   "source": [
    "UI_matrix"
   ]
  },
  {
   "cell_type": "markdown",
   "metadata": {},
   "source": [
    "### Scaling "
   ]
  },
  {
   "cell_type": "markdown",
   "metadata": {},
   "source": [
    "**We'll use Standard normalization with std = 1. This way every user with have zero mean and we can fill nan rating with 0 as mean for user. This way we can bring all users to the same level removing their biases (for different people, different rating values mean different degrees of attractiveness)**"
   ]
  },
  {
   "cell_type": "code",
   "execution_count": 11,
   "metadata": {},
   "outputs": [],
   "source": [
    "UI_numpy = UI_matrix.to_numpy()"
   ]
  },
  {
   "cell_type": "code",
   "execution_count": 12,
   "metadata": {},
   "outputs": [],
   "source": [
    "scaler = StandardScaler(with_std=False)"
   ]
  },
  {
   "cell_type": "code",
   "execution_count": 13,
   "metadata": {},
   "outputs": [],
   "source": [
    "UI_norm = scaler.fit_transform(UI_numpy.transpose())"
   ]
  },
  {
   "cell_type": "code",
   "execution_count": 14,
   "metadata": {},
   "outputs": [],
   "source": [
    "UI_norm = pd.DataFrame(UI_norm.transpose(), index=UI_matrix.index, columns=UI_matrix.columns)"
   ]
  },
  {
   "cell_type": "markdown",
   "metadata": {},
   "source": [
    "## Collaborative Filtering"
   ]
  },
  {
   "cell_type": "markdown",
   "metadata": {},
   "source": [
    "### Movies recommendation based on one"
   ]
  },
  {
   "cell_type": "markdown",
   "metadata": {},
   "source": [
    "Can be used on movie page in section \"you may like\""
   ]
  },
  {
   "cell_type": "markdown",
   "metadata": {},
   "source": [
    "**Item-item similarity**"
   ]
  },
  {
   "cell_type": "markdown",
   "metadata": {},
   "source": [
    "5 most similar movies to movie X (according to Pearson correlation coefficient between movies' vectors (from item-user-matrix)) are recommended to watch, if you like movie X."
   ]
  },
  {
   "cell_type": "code",
   "execution_count": 15,
   "metadata": {},
   "outputs": [],
   "source": [
    "item_user_matrix = pd.DataFrame(UI_norm.to_numpy().transpose(), index=UI_norm.columns, columns=UI_norm.index)"
   ]
  },
  {
   "cell_type": "code",
   "execution_count": 16,
   "metadata": {},
   "outputs": [],
   "source": [
    "item_user_matrix.fillna(0, inplace=True)"
   ]
  },
  {
   "cell_type": "markdown",
   "metadata": {},
   "source": [
    "**To decrease calculation time we'll take random 1000 movies, calculate corr and take movies with corr > 0.12 until we got 5 for recommendation. Also that will help increase randomization (each time new movies can be recommended)**"
   ]
  },
  {
   "cell_type": "markdown",
   "metadata": {},
   "source": [
    "For testing and developing the parameter will be title, but in the production version we can add a posibility to pass a vector to function for the movies and users that are not represented in sample we're using for learning."
   ]
  },
  {
   "cell_type": "code",
   "execution_count": 17,
   "metadata": {},
   "outputs": [],
   "source": [
    "N_MOVIES = 5\n",
    "\n",
    "def recommendation_movie_based(title, n_movies):\n",
    "    start_time = time.time()\n",
    "    if len(movies[movies.title == title].movieId.values) == 0:\n",
    "        print('No movie in base')\n",
    "        return None\n",
    "    else:\n",
    "        movie_id = movies[movies.title == title].movieId.values[0]\n",
    "    movie_vector = item_user_matrix.loc[movie_id]\n",
    "    \n",
    "    '''\n",
    "        To decrease calculation time we'll take random 4500 movies,\n",
    "        calculate corr and take movies with corr > 0.12 until we got n_movies for recommendation.\n",
    "    '''\n",
    "    corr = set()\n",
    "    while (len(corr) < n_movies):\n",
    "        temp = item_user_matrix.sample(3500).corrwith(movie_vector, method='pearson',\n",
    "                                         axis=1).sort_values(ascending=False)\n",
    "        temp = temp[temp > 0.12]\n",
    "        temp = temp[temp < 1]\n",
    "        corr.update(temp.head(n_movies+1).index)\n",
    "        \n",
    "    print('Original Movie:')\n",
    "    print(title)\n",
    "    print(movies[movies['movieId'] == movie_id].genres.values[0])\n",
    "    print('\\n')\n",
    "    print('Recommended:')\n",
    "    iteration_check = 1\n",
    "    for i in corr:\n",
    "        if iteration_check > 5:\n",
    "            break\n",
    "        print(movies[movies['movieId'] == i].title.values[0])\n",
    "        print(movies[movies['movieId'] == i].genres.values[0])\n",
    "        print('\\n')\n",
    "        iteration_check += 1\n",
    "    print(time.time() - start_time, ' sec')"
   ]
  },
  {
   "cell_type": "markdown",
   "metadata": {},
   "source": [
    "### Testing"
   ]
  },
  {
   "cell_type": "markdown",
   "metadata": {},
   "source": [
    "#### Examples:"
   ]
  },
  {
   "cell_type": "code",
   "execution_count": 18,
   "metadata": {
    "scrolled": false
   },
   "outputs": [
    {
     "data": {
      "text/plain": [
       "296       67310\n",
       "356       66172\n",
       "318       63366\n",
       "593       63299\n",
       "480       59715\n",
       "          ...  \n",
       "123607        1\n",
       "90823         1\n",
       "123609        1\n",
       "123613        1\n",
       "131136        1\n",
       "Name: movieId, Length: 26744, dtype: int64"
      ]
     },
     "execution_count": 18,
     "metadata": {},
     "output_type": "execute_result"
    }
   ],
   "source": [
    "ratings['movieId'].value_counts()"
   ]
  },
  {
   "cell_type": "code",
   "execution_count": 19,
   "metadata": {
    "scrolled": true
   },
   "outputs": [
    {
     "name": "stdout",
     "output_type": "stream",
     "text": [
      "Original Movie:\n",
      "Big Lebowski, The (1998)\n",
      "Comedy|Crime\n",
      "\n",
      "\n",
      "Recommended:\n",
      "Trainspotting (1996)\n",
      "Comedy|Crime|Drama\n",
      "\n",
      "\n",
      "Fight Club (1999)\n",
      "Action|Crime|Drama|Thriller\n",
      "\n",
      "\n",
      "Unforgiven (1992)\n",
      "Drama|Western\n",
      "\n",
      "\n",
      "Clockwork Orange, A (1971)\n",
      "Crime|Drama|Sci-Fi|Thriller\n",
      "\n",
      "\n",
      "Apocalypse Now (1979)\n",
      "Action|Drama|War\n",
      "\n",
      "\n",
      "1.4211773872375488  sec\n"
     ]
    }
   ],
   "source": [
    "recommendation_movie_based('Big Lebowski, The (1998)', N_MOVIES)"
   ]
  },
  {
   "cell_type": "code",
   "execution_count": 20,
   "metadata": {
    "scrolled": true
   },
   "outputs": [
    {
     "name": "stdout",
     "output_type": "stream",
     "text": [
      "Original Movie:\n",
      "Toy Story (1995)\n",
      "Adventure|Animation|Children|Comedy|Fantasy\n",
      "\n",
      "\n",
      "Recommended:\n",
      "Incredibles, The (2004)\n",
      "Action|Adventure|Animation|Children|Comedy\n",
      "\n",
      "\n",
      "Lion King, The (1994)\n",
      "Adventure|Animation|Children|Drama|Musical|IMAX\n",
      "\n",
      "\n",
      "Beauty and the Beast (1991)\n",
      "Animation|Children|Fantasy|Musical|Romance|IMAX\n",
      "\n",
      "\n",
      "Bug's Life, A (1998)\n",
      "Adventure|Animation|Children|Comedy\n",
      "\n",
      "\n",
      "Back to the Future (1985)\n",
      "Adventure|Comedy|Sci-Fi\n",
      "\n",
      "\n",
      "3.005195379257202  sec\n"
     ]
    }
   ],
   "source": [
    "recommendation_movie_based('Toy Story (1995)', N_MOVIES)"
   ]
  },
  {
   "cell_type": "code",
   "execution_count": 21,
   "metadata": {
    "scrolled": true
   },
   "outputs": [
    {
     "name": "stdout",
     "output_type": "stream",
     "text": [
      "Original Movie:\n",
      "Die Hard (1988)\n",
      "Action|Crime|Thriller\n",
      "\n",
      "\n",
      "Recommended:\n",
      "Die Hard (1988)\n",
      "Action|Crime|Thriller\n",
      "\n",
      "\n",
      "Terminator 2: Judgment Day (1991)\n",
      "Action|Sci-Fi\n",
      "\n",
      "\n",
      "Raiders of the Lost Ark (Indiana Jones and the Raiders of the Lost Ark) (1981)\n",
      "Action|Adventure\n",
      "\n",
      "\n",
      "Lethal Weapon (1987)\n",
      "Action|Comedy|Crime|Drama\n",
      "\n",
      "\n",
      "Untouchables, The (1987)\n",
      "Action|Crime|Drama\n",
      "\n",
      "\n",
      "1.4465672969818115  sec\n"
     ]
    }
   ],
   "source": [
    "recommendation_movie_based('Die Hard (1988)', N_MOVIES)"
   ]
  },
  {
   "cell_type": "code",
   "execution_count": 22,
   "metadata": {
    "scrolled": true
   },
   "outputs": [
    {
     "name": "stdout",
     "output_type": "stream",
     "text": [
      "Original Movie:\n",
      "Groundhog Day (1993)\n",
      "Comedy|Fantasy|Romance\n",
      "\n",
      "\n",
      "Recommended:\n",
      "Reservoir Dogs (1992)\n",
      "Crime|Mystery|Thriller\n",
      "\n",
      "\n",
      "Vertigo (1958)\n",
      "Drama|Mystery|Romance|Thriller\n",
      "\n",
      "\n",
      "L.A. Confidential (1997)\n",
      "Crime|Film-Noir|Mystery|Thriller\n",
      "\n",
      "\n",
      "Usual Suspects, The (1995)\n",
      "Crime|Mystery|Thriller\n",
      "\n",
      "\n",
      "Time Code (2000)\n",
      "Comedy|Drama\n",
      "\n",
      "\n",
      "1.4386675357818604  sec\n"
     ]
    }
   ],
   "source": [
    "recommendation_movie_based('Groundhog Day (1993)', N_MOVIES)"
   ]
  },
  {
   "cell_type": "code",
   "execution_count": 23,
   "metadata": {
    "scrolled": true
   },
   "outputs": [
    {
     "name": "stdout",
     "output_type": "stream",
     "text": [
      "13452    Departures (Okuribito) (2008)\n",
      "Name: title, dtype: object\n",
      "8012    Bachelor and the Bobby-Soxer, The (1947)\n",
      "Name: title, dtype: object\n",
      "17118    Fast Five (Fast and the Furious 5, The) (2011)\n",
      "Name: title, dtype: object\n"
     ]
    }
   ],
   "source": [
    "### 584 ratings\n",
    "print(movies[movies['movieId'] == 66371].title)\n",
    "### 195 ratings\n",
    "print(movies[movies['movieId'] == 8695].title)\n",
    "### 28 ratings\n",
    "print(movies[movies['movieId'] == 86644].title)"
   ]
  },
  {
   "cell_type": "code",
   "execution_count": 24,
   "metadata": {
    "scrolled": true
   },
   "outputs": [
    {
     "name": "stdout",
     "output_type": "stream",
     "text": [
      "Original Movie:\n",
      "Departures (Okuribito) (2008)\n",
      "Drama\n",
      "\n",
      "\n",
      "Recommended:\n",
      "Magical Mystery Tour (1967)\n",
      "Comedy|Musical\n",
      "\n",
      "\n",
      "Brick Lane (2007)\n",
      "Drama\n",
      "\n",
      "\n",
      "Moving McAllister (2007)\n",
      "Comedy\n",
      "\n",
      "\n",
      "India Song (1975)\n",
      "Drama|Fantasy|Romance\n",
      "\n",
      "\n",
      "Gainsbourg (Vie Héroïque) (2010)\n",
      "Drama|Musical|Romance\n",
      "\n",
      "\n",
      "1.4470324516296387  sec\n"
     ]
    }
   ],
   "source": [
    "recommendation_movie_based('Departures (Okuribito) (2008)', N_MOVIES)"
   ]
  },
  {
   "cell_type": "code",
   "execution_count": 25,
   "metadata": {
    "scrolled": true
   },
   "outputs": [
    {
     "name": "stdout",
     "output_type": "stream",
     "text": [
      "Original Movie:\n",
      "Shadow of the Thin Man (1941)\n",
      "Comedy|Crime|Mystery\n",
      "\n",
      "\n",
      "Recommended:\n",
      "Anne of Green Gables (1985)\n",
      "Children|Drama\n",
      "\n",
      "\n",
      "Nasty Girl, The (schreckliche Mädchen, Das) (1990)\n",
      "Comedy|Drama\n",
      "\n",
      "\n",
      "Apollo 13: To the Edge and Back (1994)\n",
      "Documentary\n",
      "\n",
      "\n",
      "Anne of Green Gables: The Sequel (a.k.a. Anne of Avonlea) (1987)\n",
      "Children|Drama|Romance\n",
      "\n",
      "\n",
      "Absence of Malice (1981)\n",
      "Drama|Romance\n",
      "\n",
      "\n",
      "1.4396324157714844  sec\n"
     ]
    }
   ],
   "source": [
    "recommendation_movie_based('Shadow of the Thin Man (1941)', N_MOVIES)"
   ]
  },
  {
   "cell_type": "code",
   "execution_count": 26,
   "metadata": {
    "scrolled": true
   },
   "outputs": [
    {
     "name": "stdout",
     "output_type": "stream",
     "text": [
      "Original Movie:\n",
      "Fast Five (Fast and the Furious 5, The) (2011)\n",
      "Action|Crime|Drama|Thriller|IMAX\n",
      "\n",
      "\n",
      "Recommended:\n",
      "Pit and the Pendulum, The (1991)\n",
      "Horror\n",
      "\n",
      "\n",
      "Rock of Ages (2012)\n",
      "Comedy|Drama|Musical|IMAX\n",
      "\n",
      "\n",
      "Pit, The (1981)\n",
      "Horror\n",
      "\n",
      "\n",
      "Pieces (Mil gritos tiene la noche) (One Thousand Cries Has the Night) (1982)\n",
      "Horror|Mystery|Thriller\n",
      "\n",
      "\n",
      "Arthur (2011)\n",
      "Comedy\n",
      "\n",
      "\n",
      "1.5401551723480225  sec\n"
     ]
    }
   ],
   "source": [
    "recommendation_movie_based('Fast Five (Fast and the Furious 5, The) (2011)', N_MOVIES)"
   ]
  },
  {
   "cell_type": "markdown",
   "metadata": {},
   "source": [
    "### Movie recommendation for user"
   ]
  },
  {
   "cell_type": "markdown",
   "metadata": {},
   "source": [
    "**User-user similarity**"
   ]
  },
  {
   "cell_type": "markdown",
   "metadata": {},
   "source": [
    "Taking the sum of 15 most similar users' to user X vectors (according to Pearson correlation coeff) with coefficients equaling Pearson correlation coeff. \n",
    "8 movies with highest value in result vector are recommended for user X."
   ]
  },
  {
   "cell_type": "code",
   "execution_count": 27,
   "metadata": {},
   "outputs": [],
   "source": [
    "user_item_matrix = UI_norm"
   ]
  },
  {
   "cell_type": "code",
   "execution_count": 28,
   "metadata": {},
   "outputs": [],
   "source": [
    "N_USERS = 40\n",
    "N_USERS_MOVIES = 8\n",
    "\n",
    "def recommendation_for_user(userId, n_users):\n",
    "    start_time = time.time()\n",
    "    if userId not in user_item_matrix.index:\n",
    "        print('No such user in list')\n",
    "        return False\n",
    "    sum_vector = 0\n",
    "    user_vector = user_item_matrix.loc[userId]\n",
    "    corr = user_item_matrix.corrwith(user_vector, method='pearson', axis=1).sort_values(ascending=False).head(n_users)\n",
    "    for corr_user in corr[1:].index:\n",
    "        # vector * corr_value\n",
    "        sum_vector += user_item_matrix.loc[corr_user].to_numpy() * corr[corr.index == corr_user].values[0]\n",
    "    result = pd.Series(sum_vector, index=user_item_matrix.columns)\n",
    "    result = result.sort_values(ascending=False)\n",
    "    i = 0\n",
    "    j = 0\n",
    "    while i < N_USERS_MOVIES:\n",
    "        if user_vector.loc[result.index[j]] == 0 and result.loc[result.index[j]] > 0:\n",
    "            print(movies[movies['movieId'] == result.index[j]].title.values[0])\n",
    "            print(movies[movies['movieId'] == result.index[j]].genres.values[0])\n",
    "            print('\\n')\n",
    "            i += 1\n",
    "        j += 1\n",
    "    print(time.time() - start_time, ' sec')"
   ]
  },
  {
   "cell_type": "markdown",
   "metadata": {},
   "source": [
    "**Examples:**"
   ]
  },
  {
   "cell_type": "markdown",
   "metadata": {},
   "source": [
    "We cannot evaluate model with online-metrics, so we'll use \"hit-rate\". We'll exclude 10 random movies with different ratings and check if one (or more) of excluded will be recommended."
   ]
  },
  {
   "cell_type": "code",
   "execution_count": 29,
   "metadata": {},
   "outputs": [],
   "source": [
    "def show_user_ratings(userId):\n",
    "    result = ratings[ratings['userId'] == userId][['movieId', 'rating']]\n",
    "    for i in result.index:\n",
    "        result.loc[i, 'title'] = movies[movies['movieId'] == result.loc[i, 'movieId']].title.values[0]\n",
    "    return result"
   ]
  },
  {
   "cell_type": "code",
   "execution_count": 30,
   "metadata": {},
   "outputs": [],
   "source": [
    "def evaluate_user(userId):\n",
    "    print('Recommendation before excluding:')\n",
    "    if (recommendation_for_user(userId, N_USERS) == False): return\n",
    "    print('\\n')\n",
    "    movies_rated = show_user_ratings(userId)\n",
    "    movies_excluded = random.sample(list(movies_rated['movieId']), 10)\n",
    "    print('Movies excluded:')\n",
    "    for movie in movies_excluded:\n",
    "        print(movies_rated[movies_rated['movieId'] == movie].title.values[0])\n",
    "        print('Rating: ' + str(movies_rated[movies_rated['movieId'] == movie].rating.values[0]))\n",
    "        user_item_matrix.loc[userId, movies[movies['movieId'] == movie].movieId.values[0]] = 0\n",
    "        print('\\n')\n",
    "    print('\\n')\n",
    "    print('Recommendation after excluding:')\n",
    "    if (recommendation_for_user(userId, N_USERS) == False): return"
   ]
  },
  {
   "cell_type": "code",
   "execution_count": 31,
   "metadata": {
    "scrolled": false
   },
   "outputs": [
    {
     "name": "stdout",
     "output_type": "stream",
     "text": [
      "Recommendation before excluding:\n",
      "Usual Suspects, The (1995)\n",
      "Crime|Mystery|Thriller\n",
      "\n",
      "\n",
      "Godfather: Part II, The (1974)\n",
      "Crime|Drama\n",
      "\n",
      "\n",
      "Schindler's List (1993)\n",
      "Drama|War\n",
      "\n",
      "\n",
      "Band of Brothers (2001)\n",
      "Action|Drama|War\n",
      "\n",
      "\n",
      "Silence of the Lambs, The (1991)\n",
      "Crime|Horror|Thriller\n",
      "\n",
      "\n",
      "Fugitive, The (1993)\n",
      "Thriller\n",
      "\n",
      "\n",
      "Dark Knight, The (2008)\n",
      "Action|Crime|Drama|IMAX\n",
      "\n",
      "\n",
      "Inception (2010)\n",
      "Action|Crime|Drama|Mystery|Sci-Fi|Thriller|IMAX\n",
      "\n",
      "\n",
      "1.3773250579833984  sec\n",
      "\n",
      "\n",
      "Movies excluded:\n",
      "Parent Trap, The (1961)\n",
      "Rating: 4.0\n",
      "\n",
      "\n",
      "Mr. & Mrs. Smith (1941)\n",
      "Rating: 4.0\n",
      "\n",
      "\n",
      "27 Dresses (2008)\n",
      "Rating: 4.5\n",
      "\n",
      "\n",
      "12 Angry Men (1957)\n",
      "Rating: 4.5\n",
      "\n",
      "\n",
      "Matilda (1996)\n",
      "Rating: 4.0\n",
      "\n",
      "\n",
      "Akeelah and the Bee (2006)\n",
      "Rating: 3.0\n",
      "\n",
      "\n",
      "Shawshank Redemption, The (1994)\n",
      "Rating: 5.0\n",
      "\n",
      "\n",
      "Never Been Kissed (1999)\n",
      "Rating: 4.0\n",
      "\n",
      "\n",
      "Princess Bride, The (1987)\n",
      "Rating: 4.5\n",
      "\n",
      "\n",
      "Divine Secrets of the Ya-Ya Sisterhood (2002)\n",
      "Rating: 4.5\n",
      "\n",
      "\n",
      "\n",
      "\n",
      "Recommendation after excluding:\n",
      "Usual Suspects, The (1995)\n",
      "Crime|Mystery|Thriller\n",
      "\n",
      "\n",
      "Godfather: Part II, The (1974)\n",
      "Crime|Drama\n",
      "\n",
      "\n",
      "Shawshank Redemption, The (1994)\n",
      "Crime|Drama\n",
      "\n",
      "\n",
      "Silence of the Lambs, The (1991)\n",
      "Crime|Horror|Thriller\n",
      "\n",
      "\n",
      "Fargo (1996)\n",
      "Comedy|Crime|Drama|Thriller\n",
      "\n",
      "\n",
      "Star Wars: Episode IV - A New Hope (1977)\n",
      "Action|Adventure|Sci-Fi\n",
      "\n",
      "\n",
      "English Patient, The (1996)\n",
      "Drama|Romance|War\n",
      "\n",
      "\n",
      "Raiders of the Lost Ark (Indiana Jones and the Raiders of the Lost Ark) (1981)\n",
      "Action|Adventure\n",
      "\n",
      "\n",
      "1.4460325241088867  sec\n"
     ]
    }
   ],
   "source": [
    "evaluate_user(137100)"
   ]
  },
  {
   "cell_type": "markdown",
   "metadata": {},
   "source": [
    "**Shawshank Redemption (5.0 rating) is now recommended**"
   ]
  },
  {
   "cell_type": "code",
   "execution_count": 32,
   "metadata": {
    "scrolled": false
   },
   "outputs": [
    {
     "name": "stdout",
     "output_type": "stream",
     "text": [
      "Recommendation before excluding:\n",
      "Shawshank Redemption, The (1994)\n",
      "Crime|Drama\n",
      "\n",
      "\n",
      "Godfather, The (1972)\n",
      "Crime|Drama\n",
      "\n",
      "\n",
      "Godfather: Part II, The (1974)\n",
      "Crime|Drama\n",
      "\n",
      "\n",
      "Forrest Gump (1994)\n",
      "Comedy|Drama|Romance|War\n",
      "\n",
      "\n",
      "Prestige, The (2006)\n",
      "Drama|Mystery|Sci-Fi|Thriller\n",
      "\n",
      "\n",
      "Silence of the Lambs, The (1991)\n",
      "Crime|Horror|Thriller\n",
      "\n",
      "\n",
      "Star Wars: Episode VI - Return of the Jedi (1983)\n",
      "Action|Adventure|Sci-Fi\n",
      "\n",
      "\n",
      "Gladiator (2000)\n",
      "Action|Adventure|Drama\n",
      "\n",
      "\n",
      "1.3781049251556396  sec\n",
      "\n",
      "\n",
      "Movies excluded:\n",
      "Saving Private Ryan (1998)\n",
      "Rating: 4.5\n",
      "\n",
      "\n",
      "The Interview (2014)\n",
      "Rating: 2.5\n",
      "\n",
      "\n",
      "Chronicles of Riddick, The (2004)\n",
      "Rating: 3.0\n",
      "\n",
      "\n",
      "Shaun of the Dead (2004)\n",
      "Rating: 4.0\n",
      "\n",
      "\n",
      "Good bye, Lenin! (2003)\n",
      "Rating: 4.0\n",
      "\n",
      "\n",
      "Bruce Almighty (2003)\n",
      "Rating: 3.5\n",
      "\n",
      "\n",
      "Dr. Strangelove or: How I Learned to Stop Worrying and Love the Bomb (1964)\n",
      "Rating: 4.0\n",
      "\n",
      "\n",
      "Kill Bill: Vol. 1 (2003)\n",
      "Rating: 4.5\n",
      "\n",
      "\n",
      "American History X (1998)\n",
      "Rating: 4.0\n",
      "\n",
      "\n",
      "Pirates of the Caribbean: The Curse of the Black Pearl (2003)\n",
      "Rating: 4.0\n",
      "\n",
      "\n",
      "\n",
      "\n",
      "Recommendation after excluding:\n",
      "Shawshank Redemption, The (1994)\n",
      "Crime|Drama\n",
      "\n",
      "\n",
      "Godfather, The (1972)\n",
      "Crime|Drama\n",
      "\n",
      "\n",
      "American History X (1998)\n",
      "Crime|Drama\n",
      "\n",
      "\n",
      "Godfather: Part II, The (1974)\n",
      "Crime|Drama\n",
      "\n",
      "\n",
      "Forrest Gump (1994)\n",
      "Comedy|Drama|Romance|War\n",
      "\n",
      "\n",
      "Silence of the Lambs, The (1991)\n",
      "Crime|Horror|Thriller\n",
      "\n",
      "\n",
      "Prestige, The (2006)\n",
      "Drama|Mystery|Sci-Fi|Thriller\n",
      "\n",
      "\n",
      "Star Wars: Episode VI - Return of the Jedi (1983)\n",
      "Action|Adventure|Sci-Fi\n",
      "\n",
      "\n",
      "1.361023187637329  sec\n"
     ]
    }
   ],
   "source": [
    "evaluate_user(137500)"
   ]
  },
  {
   "cell_type": "markdown",
   "metadata": {},
   "source": [
    "**American History X (4.0 rating) is now recommended**"
   ]
  },
  {
   "cell_type": "code",
   "execution_count": 33,
   "metadata": {
    "scrolled": false
   },
   "outputs": [
    {
     "name": "stdout",
     "output_type": "stream",
     "text": [
      "Recommendation before excluding:\n",
      "Silence of the Lambs, The (1991)\n",
      "Crime|Horror|Thriller\n",
      "\n",
      "\n",
      "Schindler's List (1993)\n",
      "Drama|War\n",
      "\n",
      "\n",
      "Forrest Gump (1994)\n",
      "Comedy|Drama|Romance|War\n",
      "\n",
      "\n",
      "Fugitive, The (1993)\n",
      "Thriller\n",
      "\n",
      "\n",
      "Fargo (1996)\n",
      "Comedy|Crime|Drama|Thriller\n",
      "\n",
      "\n",
      "Get Shorty (1995)\n",
      "Comedy|Crime|Thriller\n",
      "\n",
      "\n",
      "Toy Story (1995)\n",
      "Adventure|Animation|Children|Comedy|Fantasy\n",
      "\n",
      "\n",
      "Terminator 2: Judgment Day (1991)\n",
      "Action|Sci-Fi\n",
      "\n",
      "\n",
      "1.3505089282989502  sec\n",
      "\n",
      "\n",
      "Movies excluded:\n",
      "Batman Forever (1995)\n",
      "Rating: 3.0\n",
      "\n",
      "\n",
      "Clueless (1995)\n",
      "Rating: 3.0\n",
      "\n",
      "\n",
      "Net, The (1995)\n",
      "Rating: 3.0\n",
      "\n",
      "\n",
      "Apollo 13 (1995)\n",
      "Rating: 5.0\n",
      "\n",
      "\n",
      "Batman (1989)\n",
      "Rating: 3.0\n",
      "\n",
      "\n",
      "Ace Ventura: Pet Detective (1994)\n",
      "Rating: 3.0\n",
      "\n",
      "\n",
      "Usual Suspects, The (1995)\n",
      "Rating: 5.0\n",
      "\n",
      "\n",
      "Dances with Wolves (1990)\n",
      "Rating: 4.0\n",
      "\n",
      "\n",
      "Disclosure (1994)\n",
      "Rating: 3.0\n",
      "\n",
      "\n",
      "Crimson Tide (1995)\n",
      "Rating: 4.0\n",
      "\n",
      "\n",
      "\n",
      "\n",
      "Recommendation after excluding:\n",
      "Silence of the Lambs, The (1991)\n",
      "Crime|Horror|Thriller\n",
      "\n",
      "\n",
      "Usual Suspects, The (1995)\n",
      "Crime|Mystery|Thriller\n",
      "\n",
      "\n",
      "Forrest Gump (1994)\n",
      "Comedy|Drama|Romance|War\n",
      "\n",
      "\n",
      "Terminator 2: Judgment Day (1991)\n",
      "Action|Sci-Fi\n",
      "\n",
      "\n",
      "Fugitive, The (1993)\n",
      "Thriller\n",
      "\n",
      "\n",
      "Apollo 13 (1995)\n",
      "Adventure|Drama|IMAX\n",
      "\n",
      "\n",
      "Fargo (1996)\n",
      "Comedy|Crime|Drama|Thriller\n",
      "\n",
      "\n",
      "Schindler's List (1993)\n",
      "Drama|War\n",
      "\n",
      "\n",
      "1.3501479625701904  sec\n"
     ]
    }
   ],
   "source": [
    "evaluate_user(138400)"
   ]
  },
  {
   "cell_type": "markdown",
   "metadata": {},
   "source": [
    "**Apollo 13 (5.0 rating) and Usual Suspects (5.0) are recommended now.**"
   ]
  },
  {
   "cell_type": "markdown",
   "metadata": {},
   "source": [
    "## Conclusion"
   ]
  },
  {
   "cell_type": "markdown",
   "metadata": {},
   "source": [
    "The main problems of collaborative filtering approach is non-variety and \"cold start problem\". Unpopular items with less ratings usually are not recommended and it's more complicated to find a good recommendations to new users with few ratings. Non-variety means that same movies will be recommended at different time until user-item matrix update."
   ]
  },
  {
   "cell_type": "markdown",
   "metadata": {},
   "source": [
    "At movie similarity approach we solved non-variety problem taking random samples from user-item matrix."
   ]
  }
 ],
 "metadata": {
  "kernelspec": {
   "display_name": "Python 3",
   "language": "python",
   "name": "python3"
  },
  "language_info": {
   "codemirror_mode": {
    "name": "ipython",
    "version": 3
   },
   "file_extension": ".py",
   "mimetype": "text/x-python",
   "name": "python",
   "nbconvert_exporter": "python",
   "pygments_lexer": "ipython3",
   "version": "3.8.3"
  }
 },
 "nbformat": 4,
 "nbformat_minor": 4
}
