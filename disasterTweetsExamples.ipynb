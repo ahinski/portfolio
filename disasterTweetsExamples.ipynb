{
 "cells": [
  {
   "cell_type": "markdown",
   "metadata": {},
   "source": [
    "# Disaster Tweets"
   ]
  },
  {
   "cell_type": "markdown",
   "metadata": {},
   "source": [
    "Some predictions for random tweets not from train data."
   ]
  },
  {
   "cell_type": "code",
   "execution_count": 1,
   "metadata": {
    "scrolled": true
   },
   "outputs": [],
   "source": [
    "from disaster_tweets.scripts.tweetPredict import predict"
   ]
  },
  {
   "cell_type": "code",
   "execution_count": 2,
   "metadata": {
    "scrolled": true
   },
   "outputs": [
    {
     "name": "stdout",
     "output_type": "stream",
     "text": [
      "Probability of tweet being about real disaster: 0.59\n"
     ]
    }
   ],
   "source": [
    "'''\n",
    "    there are people in the building, call 911\n",
    "'''\n",
    "\n",
    "print('Probability of tweet being about real disaster: ' + str(predict('there are people in the building, call 911')))"
   ]
  },
  {
   "cell_type": "code",
   "execution_count": 3,
   "metadata": {},
   "outputs": [
    {
     "name": "stdout",
     "output_type": "stream",
     "text": [
      "Probability of tweet being about real disaster: 0.29\n"
     ]
    }
   ],
   "source": [
    "'''\n",
    "    Shocked to commit… Release all concerned in our parks will remain open to be built in Donaghmede from?\n",
    "'''\n",
    "\n",
    "print('Probability of tweet being about real disaster: ' +\n",
    "      str(predict('Shocked to commit… Release all concerned in our parks will remain open to be built in Donaghmede from?')))"
   ]
  },
  {
   "cell_type": "code",
   "execution_count": 4,
   "metadata": {},
   "outputs": [
    {
     "name": "stdout",
     "output_type": "stream",
     "text": [
      "Probability of tweet being about real disaster: 0.04\n"
     ]
    }
   ],
   "source": [
    "'''\n",
    "    You can’t just pop someone if they not puttin you in immediate danger.......on camera\n",
    "'''\n",
    "\n",
    "print('Probability of tweet being about real disaster: ' + \n",
    "      str(predict('You can’t just pop someone if they not puttin you in immediate danger.......on camera')))"
   ]
  },
  {
   "cell_type": "code",
   "execution_count": 5,
   "metadata": {},
   "outputs": [
    {
     "name": "stdout",
     "output_type": "stream",
     "text": [
      "Probability of tweet being about real disaster: 0.17\n"
     ]
    }
   ],
   "source": [
    "'''\n",
    "    You know that's not the fault of \"people telling you not to put others in danger\",\n",
    "    but that of the state and federal governments, right? You do realize that, right?\n",
    "'''\n",
    "\n",
    "print('Probability of tweet being about real disaster: ' +\n",
    "      str(predict('You know that\\'s not the fault of \"people telling you not to put others in danger\",but that of the state and federal governments, right? You do realize that, right?')))"
   ]
  },
  {
   "cell_type": "code",
   "execution_count": 6,
   "metadata": {},
   "outputs": [
    {
     "name": "stdout",
     "output_type": "stream",
     "text": [
      "Probability of tweet being about real disaster: 0.06\n"
     ]
    }
   ],
   "source": [
    "'''\n",
    "          PLEASE PLEASE SPARE ME JUST ONE MINUTE PLEASE CHECK MY PINNED TWEET AND VOTE FOR ME PLEASE. \n",
    "          YOU CAN ALSO HELP ME TAG 10 FRIENDS.\n",
    "'''\n",
    "\n",
    "print('Probability of tweet being about real disaster: ' + \n",
    "      str(predict('PLEASE PLEASE SPARE ME JUST ONE MINUTE PLEASE CHECK MY PINNED TWEET AND VOTE FOR ME PLEASE. YOU CAN ALSO HELP ME TAG 10 FRIENDS.')))"
   ]
  },
  {
   "cell_type": "code",
   "execution_count": 7,
   "metadata": {},
   "outputs": [
    {
     "name": "stdout",
     "output_type": "stream",
     "text": [
      "Probability of tweet being about real disaster: 0.11\n"
     ]
    }
   ],
   "source": [
    "'''\n",
    "    Ain’t nobody ever really help me. I don’t why I help so much.\n",
    "'''\n",
    "\n",
    "print('Probability of tweet being about real disaster: ' + \n",
    "      str(predict('Ain’t nobody ever really help me. I don’t why I help so much.')))"
   ]
  },
  {
   "cell_type": "code",
   "execution_count": 8,
   "metadata": {},
   "outputs": [
    {
     "name": "stdout",
     "output_type": "stream",
     "text": [
      "Probability of tweet being about real disaster: 0.95\n"
     ]
    }
   ],
   "source": [
    "'''\n",
    "    USGS reports a M0.61 earthquake, 14km ESE of Anza, CA on 2/7/21 @ 15:28:54 UTC\n",
    "    https://earthquake.usgs.gov/earthquakes/eventpage/ci39543807 #earthquake\n",
    "'''\n",
    "\n",
    "print('Probability of tweet being about real disaster: ' +\n",
    "      str(predict('USGS reports a M0.61 earthquake, 14km ESE of Anza, CA on 2/7/21 @ 15:28:54 UTC https://earthquake.usgs.gov/earthquakes/eventpage/ci39543807 #earthquake')))"
   ]
  },
  {
   "cell_type": "code",
   "execution_count": 9,
   "metadata": {},
   "outputs": [
    {
     "name": "stdout",
     "output_type": "stream",
     "text": [
      "Probability of tweet being about real disaster: 0.85\n"
     ]
    }
   ],
   "source": [
    "'''\n",
    "    faucets started catching fire in Pennsylvania. And earthquakes started shaking Oklahoma City. \n",
    "    And evidence started accumulating that indicates the gas itself is a bigger threat to the climate than coal.\n",
    "'''\n",
    "\n",
    "print('Probability of tweet being about real disaster: ' +\n",
    "      str(predict('faucets started catching fire in Pennsylvania. And earthquakes started shaking Oklahoma City. And evidence started accumulating that indicates the gas itself is a bigger threat to the climate than coal.')))"
   ]
  },
  {
   "cell_type": "code",
   "execution_count": 10,
   "metadata": {},
   "outputs": [
    {
     "name": "stdout",
     "output_type": "stream",
     "text": [
      "Probability of tweet being about real disaster: 0.87\n"
     ]
    }
   ],
   "source": [
    "'''\n",
    "    Are you ready Just have that feeling California will have a good size earthquake this year significant damage\n",
    "'''\n",
    "\n",
    "print('Probability of tweet being about real disaster: ' +\n",
    "      str(predict('Are you ready Just have that feeling California will have a good size earthquake this year significant damage')))"
   ]
  }
 ],
 "metadata": {
  "kernelspec": {
   "display_name": "Python 3",
   "language": "python",
   "name": "python3"
  },
  "language_info": {
   "codemirror_mode": {
    "name": "ipython",
    "version": 3
   },
   "file_extension": ".py",
   "mimetype": "text/x-python",
   "name": "python",
   "nbconvert_exporter": "python",
   "pygments_lexer": "ipython3",
   "version": "3.8.3"
  }
 },
 "nbformat": 4,
 "nbformat_minor": 4
}
